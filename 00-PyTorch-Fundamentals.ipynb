{
  "cells": [
    {
      "cell_type": "markdown",
      "metadata": {
        "id": "view-in-github",
        "colab_type": "text"
      },
      "source": [
        "<a href=\"https://colab.research.google.com/github/harnettd/learn-PyTorch/blob/main/00-PyTorch-Fundamentals.ipynb\" target=\"_parent\"><img src=\"https://colab.research.google.com/assets/colab-badge.svg\" alt=\"Open In Colab\"/></a>"
      ]
    },
    {
      "cell_type": "markdown",
      "id": "0902c5fd-5869-4859-9942-5588440c378f",
      "metadata": {
        "id": "0902c5fd-5869-4859-9942-5588440c378f"
      },
      "source": [
        "# 00. PyTorch Fundamentals"
      ]
    },
    {
      "cell_type": "code",
      "execution_count": 1,
      "id": "e2069081-d996-4583-8f29-ef1ee8e43cc0",
      "metadata": {
        "id": "e2069081-d996-4583-8f29-ef1ee8e43cc0",
        "outputId": "81448b2e-6967-4d38-a3ea-4006a7e7a0f0",
        "colab": {
          "base_uri": "https://localhost:8080/"
        }
      },
      "outputs": [
        {
          "output_type": "stream",
          "name": "stdout",
          "text": [
            "Cloning into 'learn-PyTorch'...\n",
            "remote: Enumerating objects: 7, done.\u001b[K\n",
            "remote: Counting objects: 100% (7/7), done.\u001b[K\n",
            "remote: Compressing objects: 100% (5/5), done.\u001b[K\n",
            "remote: Total 7 (delta 0), reused 7 (delta 0), pack-reused 0\u001b[K\n",
            "Receiving objects: 100% (7/7), done.\n"
          ]
        }
      ],
      "source": [
        "!git clone https://github.com/harnettd/learn-PyTorch.git"
      ]
    },
    {
      "cell_type": "markdown",
      "source": [
        "## Installs and Imports"
      ],
      "metadata": {
        "id": "dQCQ5KxqyuxW"
      },
      "id": "dQCQ5KxqyuxW"
    },
    {
      "cell_type": "code",
      "source": [
        "import torch"
      ],
      "metadata": {
        "id": "YvAkkAxLyRbU"
      },
      "id": "YvAkkAxLyRbU",
      "execution_count": 2,
      "outputs": []
    },
    {
      "cell_type": "markdown",
      "source": [
        "## Defining Tensors"
      ],
      "metadata": {
        "id": "ucf_qmqZzvfl"
      },
      "id": "ucf_qmqZzvfl"
    },
    {
      "cell_type": "markdown",
      "source": [
        "### Scalar"
      ],
      "metadata": {
        "id": "nDzUGJV50DhH"
      },
      "id": "nDzUGJV50DhH"
    },
    {
      "cell_type": "code",
      "source": [
        "scalar = torch.tensor(7)\n",
        "scalar"
      ],
      "metadata": {
        "id": "VEDPeVcpy32c",
        "outputId": "faa77a21-9e16-4326-96c7-79ccdd9aab18",
        "colab": {
          "base_uri": "https://localhost:8080/"
        }
      },
      "id": "VEDPeVcpy32c",
      "execution_count": 7,
      "outputs": [
        {
          "output_type": "execute_result",
          "data": {
            "text/plain": [
              "tensor(7)"
            ]
          },
          "metadata": {},
          "execution_count": 7
        }
      ]
    },
    {
      "cell_type": "code",
      "source": [
        "scalar.ndim"
      ],
      "metadata": {
        "id": "F02PVe9Iz18i",
        "outputId": "a8735985-4da1-4945-dfdd-38217ca8107d",
        "colab": {
          "base_uri": "https://localhost:8080/"
        }
      },
      "id": "F02PVe9Iz18i",
      "execution_count": 8,
      "outputs": [
        {
          "output_type": "execute_result",
          "data": {
            "text/plain": [
              "0"
            ]
          },
          "metadata": {},
          "execution_count": 8
        }
      ]
    },
    {
      "cell_type": "code",
      "source": [
        "scalar.item()"
      ],
      "metadata": {
        "id": "aLzMxPLhz7cm",
        "outputId": "69d3e8ac-09e4-489c-ff23-049ac8eafffa",
        "colab": {
          "base_uri": "https://localhost:8080/"
        }
      },
      "id": "aLzMxPLhz7cm",
      "execution_count": 9,
      "outputs": [
        {
          "output_type": "execute_result",
          "data": {
            "text/plain": [
              "7"
            ]
          },
          "metadata": {},
          "execution_count": 9
        }
      ]
    },
    {
      "cell_type": "markdown",
      "source": [
        "### Vector"
      ],
      "metadata": {
        "id": "CfU2SEya0F7i"
      },
      "id": "CfU2SEya0F7i"
    },
    {
      "cell_type": "code",
      "source": [
        "vector = torch.tensor([7, 7])\n",
        "vector"
      ],
      "metadata": {
        "id": "zlZg3QISz_09",
        "outputId": "a72a875c-dd15-44fa-cd9f-edd3e2074a6c",
        "colab": {
          "base_uri": "https://localhost:8080/"
        }
      },
      "id": "zlZg3QISz_09",
      "execution_count": 10,
      "outputs": [
        {
          "output_type": "execute_result",
          "data": {
            "text/plain": [
              "tensor([7, 7])"
            ]
          },
          "metadata": {},
          "execution_count": 10
        }
      ]
    },
    {
      "cell_type": "code",
      "source": [
        "vector.ndim"
      ],
      "metadata": {
        "id": "CwP8yXNW0NiU",
        "outputId": "85c3dab9-3635-4472-b084-16641309304a",
        "colab": {
          "base_uri": "https://localhost:8080/"
        }
      },
      "id": "CwP8yXNW0NiU",
      "execution_count": 11,
      "outputs": [
        {
          "output_type": "execute_result",
          "data": {
            "text/plain": [
              "1"
            ]
          },
          "metadata": {},
          "execution_count": 11
        }
      ]
    },
    {
      "cell_type": "code",
      "source": [
        "vector.shape"
      ],
      "metadata": {
        "id": "VTD5PDCz0PNW",
        "outputId": "79aef0f5-cdeb-4172-c27b-306d89ca9943",
        "colab": {
          "base_uri": "https://localhost:8080/"
        }
      },
      "id": "VTD5PDCz0PNW",
      "execution_count": 12,
      "outputs": [
        {
          "output_type": "execute_result",
          "data": {
            "text/plain": [
              "torch.Size([2])"
            ]
          },
          "metadata": {},
          "execution_count": 12
        }
      ]
    },
    {
      "cell_type": "markdown",
      "source": [
        "### Matrix"
      ],
      "metadata": {
        "id": "FhbelAY80Z5e"
      },
      "id": "FhbelAY80Z5e"
    },
    {
      "cell_type": "code",
      "source": [
        "MATRIX = torch.tensor([\n",
        "    [7, 8],\n",
        "    [9, 10]\n",
        "])\n",
        "MATRIX"
      ],
      "metadata": {
        "id": "2lWSpL0E0Uth",
        "outputId": "1ac7812a-4c6b-4956-f9ee-0a46318ef845",
        "colab": {
          "base_uri": "https://localhost:8080/"
        }
      },
      "id": "2lWSpL0E0Uth",
      "execution_count": 13,
      "outputs": [
        {
          "output_type": "execute_result",
          "data": {
            "text/plain": [
              "tensor([[ 7,  8],\n",
              "        [ 9, 10]])"
            ]
          },
          "metadata": {},
          "execution_count": 13
        }
      ]
    },
    {
      "cell_type": "code",
      "source": [
        "MATRIX.ndim"
      ],
      "metadata": {
        "id": "8vDrkR860qI0",
        "outputId": "7483c307-4379-45eb-8303-cc6732e77932",
        "colab": {
          "base_uri": "https://localhost:8080/"
        }
      },
      "id": "8vDrkR860qI0",
      "execution_count": 14,
      "outputs": [
        {
          "output_type": "execute_result",
          "data": {
            "text/plain": [
              "2"
            ]
          },
          "metadata": {},
          "execution_count": 14
        }
      ]
    },
    {
      "cell_type": "code",
      "source": [
        "MATRIX.shape"
      ],
      "metadata": {
        "id": "zala4c2-0urG",
        "outputId": "f06b9003-8145-4604-aeb8-04a78e778b80",
        "colab": {
          "base_uri": "https://localhost:8080/"
        }
      },
      "id": "zala4c2-0urG",
      "execution_count": 15,
      "outputs": [
        {
          "output_type": "execute_result",
          "data": {
            "text/plain": [
              "torch.Size([2, 2])"
            ]
          },
          "metadata": {},
          "execution_count": 15
        }
      ]
    },
    {
      "cell_type": "markdown",
      "source": [
        "## Tensor"
      ],
      "metadata": {
        "id": "eVU8nOc-1Do4"
      },
      "id": "eVU8nOc-1Do4"
    },
    {
      "cell_type": "code",
      "source": [
        "TENSOR = torch.tensor([\n",
        "    [\n",
        "        [1, 2, 3],\n",
        "        [3, 6, 9],\n",
        "        [2, 4, 5]\n",
        "    ]\n",
        "])\n",
        "TENSOR"
      ],
      "metadata": {
        "id": "4MBnKZ4Y0ypH",
        "outputId": "f5f6fa41-2258-4b55-f24d-e7debb3f5aaa",
        "colab": {
          "base_uri": "https://localhost:8080/"
        }
      },
      "id": "4MBnKZ4Y0ypH",
      "execution_count": 16,
      "outputs": [
        {
          "output_type": "execute_result",
          "data": {
            "text/plain": [
              "tensor([[[1, 2, 3],\n",
              "         [3, 6, 9],\n",
              "         [2, 4, 5]]])"
            ]
          },
          "metadata": {},
          "execution_count": 16
        }
      ]
    },
    {
      "cell_type": "code",
      "source": [
        "TENSOR.ndim"
      ],
      "metadata": {
        "id": "KfwJk_Ka1rXa",
        "outputId": "158a5566-e741-47c2-8a0f-9fa9a5a650be",
        "colab": {
          "base_uri": "https://localhost:8080/"
        }
      },
      "id": "KfwJk_Ka1rXa",
      "execution_count": 17,
      "outputs": [
        {
          "output_type": "execute_result",
          "data": {
            "text/plain": [
              "3"
            ]
          },
          "metadata": {},
          "execution_count": 17
        }
      ]
    },
    {
      "cell_type": "code",
      "source": [
        "TENSOR.shape"
      ],
      "metadata": {
        "id": "yJyTaUZR1yT_",
        "outputId": "2aef9388-7a63-4fd9-ae74-ea2babd9cc60",
        "colab": {
          "base_uri": "https://localhost:8080/"
        }
      },
      "id": "yJyTaUZR1yT_",
      "execution_count": 18,
      "outputs": [
        {
          "output_type": "execute_result",
          "data": {
            "text/plain": [
              "torch.Size([1, 3, 3])"
            ]
          },
          "metadata": {},
          "execution_count": 18
        }
      ]
    },
    {
      "cell_type": "markdown",
      "source": [
        "## Random Tensors"
      ],
      "metadata": {
        "id": "YmHrPaKK2qTe"
      },
      "id": "YmHrPaKK2qTe"
    },
    {
      "cell_type": "code",
      "source": [
        "random_tensor = torch.rand(size=(3, 4))\n",
        "random_tensor, random_tensor.dtype"
      ],
      "metadata": {
        "id": "JHelXI1417LY",
        "outputId": "ba744d21-db95-4520-b40f-a010e64e1137",
        "colab": {
          "base_uri": "https://localhost:8080/"
        }
      },
      "id": "JHelXI1417LY",
      "execution_count": 20,
      "outputs": [
        {
          "output_type": "execute_result",
          "data": {
            "text/plain": [
              "(tensor([[0.9542, 0.6059, 0.4845, 0.9388],\n",
              "         [0.8517, 0.3599, 0.7182, 0.0473],\n",
              "         [0.9920, 0.6504, 0.6396, 0.7607]]),\n",
              " torch.float32)"
            ]
          },
          "metadata": {},
          "execution_count": 20
        }
      ]
    },
    {
      "cell_type": "code",
      "source": [
        "random_image_size_tensor = torch.rand(size=(224, 224, 3))\n",
        "random_image_size_tensor.ndim, random_image_size_tensor.shape"
      ],
      "metadata": {
        "id": "FLX_6Kzp281B",
        "outputId": "ba85bb77-6467-4b57-e4c1-f00ea65c7bdb",
        "colab": {
          "base_uri": "https://localhost:8080/"
        }
      },
      "id": "FLX_6Kzp281B",
      "execution_count": 21,
      "outputs": [
        {
          "output_type": "execute_result",
          "data": {
            "text/plain": [
              "(3, torch.Size([224, 224, 3]))"
            ]
          },
          "metadata": {},
          "execution_count": 21
        }
      ]
    },
    {
      "cell_type": "markdown",
      "source": [
        "## Zeros and Ones"
      ],
      "metadata": {
        "id": "gktE7omG3nUa"
      },
      "id": "gktE7omG3nUa"
    },
    {
      "cell_type": "code",
      "source": [
        "zeros = torch.zeros(size=(3, 4))\n",
        "zeros, zeros.dtype"
      ],
      "metadata": {
        "id": "C_S35YhY3eXj",
        "outputId": "56605f79-e846-4622-dfe9-c569c209f4f6",
        "colab": {
          "base_uri": "https://localhost:8080/"
        }
      },
      "id": "C_S35YhY3eXj",
      "execution_count": 22,
      "outputs": [
        {
          "output_type": "execute_result",
          "data": {
            "text/plain": [
              "(tensor([[0., 0., 0., 0.],\n",
              "         [0., 0., 0., 0.],\n",
              "         [0., 0., 0., 0.]]),\n",
              " torch.float32)"
            ]
          },
          "metadata": {},
          "execution_count": 22
        }
      ]
    },
    {
      "cell_type": "code",
      "source": [
        "ones = torch.ones(size=(3, 4))\n",
        "ones, ones.dtype"
      ],
      "metadata": {
        "id": "S8Iu6qKI3xtB",
        "outputId": "5211152b-462e-4ef5-be41-97f27630b710",
        "colab": {
          "base_uri": "https://localhost:8080/"
        }
      },
      "id": "S8Iu6qKI3xtB",
      "execution_count": 23,
      "outputs": [
        {
          "output_type": "execute_result",
          "data": {
            "text/plain": [
              "(tensor([[1., 1., 1., 1.],\n",
              "         [1., 1., 1., 1.],\n",
              "         [1., 1., 1., 1.]]),\n",
              " torch.float32)"
            ]
          },
          "metadata": {},
          "execution_count": 23
        }
      ]
    },
    {
      "cell_type": "markdown",
      "source": [
        "## `arange` and like"
      ],
      "metadata": {
        "id": "l0xliBnz4Eag"
      },
      "id": "l0xliBnz4Eag"
    },
    {
      "cell_type": "code",
      "source": [
        "v = torch.arange(0, 10)\n",
        "v"
      ],
      "metadata": {
        "id": "cmebrlX636Qu",
        "outputId": "f8f9cba5-52ba-43a6-f135-8b28ae407da2",
        "colab": {
          "base_uri": "https://localhost:8080/"
        }
      },
      "id": "cmebrlX636Qu",
      "execution_count": 25,
      "outputs": [
        {
          "output_type": "execute_result",
          "data": {
            "text/plain": [
              "tensor([0, 1, 2, 3, 4, 5, 6, 7, 8, 9])"
            ]
          },
          "metadata": {},
          "execution_count": 25
        }
      ]
    },
    {
      "cell_type": "code",
      "source": [
        "torch.zeros_like(v)"
      ],
      "metadata": {
        "id": "ewUo5ifP4OXd",
        "outputId": "0c2ea272-f457-434e-8fff-20097d4424a2",
        "colab": {
          "base_uri": "https://localhost:8080/"
        }
      },
      "id": "ewUo5ifP4OXd",
      "execution_count": 26,
      "outputs": [
        {
          "output_type": "execute_result",
          "data": {
            "text/plain": [
              "tensor([0, 0, 0, 0, 0, 0, 0, 0, 0, 0])"
            ]
          },
          "metadata": {},
          "execution_count": 26
        }
      ]
    },
    {
      "cell_type": "code",
      "source": [
        "torch.ones_like(v)"
      ],
      "metadata": {
        "id": "ITIxOZmd4ah6",
        "outputId": "0e3af4c5-1b05-4b9f-858e-70805fea18c7",
        "colab": {
          "base_uri": "https://localhost:8080/"
        }
      },
      "id": "ITIxOZmd4ah6",
      "execution_count": 27,
      "outputs": [
        {
          "output_type": "execute_result",
          "data": {
            "text/plain": [
              "tensor([1, 1, 1, 1, 1, 1, 1, 1, 1, 1])"
            ]
          },
          "metadata": {},
          "execution_count": 27
        }
      ]
    },
    {
      "cell_type": "code",
      "source": [],
      "metadata": {
        "id": "Pr7P50uP4d6C"
      },
      "id": "Pr7P50uP4d6C",
      "execution_count": null,
      "outputs": []
    },
    {
      "cell_type": "markdown",
      "source": [
        "## Tensor Datatypes"
      ],
      "metadata": {
        "id": "i9iJe4RO4hgc"
      },
      "id": "i9iJe4RO4hgc"
    },
    {
      "cell_type": "code",
      "source": [
        "float_32_tensor = torch.tensor(\n",
        "    [3, 6, 9],\n",
        "    dtype=torch.float,\n",
        "    device=None,\n",
        "    requires_grad=False\n",
        ")\n",
        "float_32_tensor.shape, float_32_tensor.dtype, float_32_tensor.device"
      ],
      "metadata": {
        "id": "qmFfrwU14juB",
        "outputId": "f6601010-5305-4ec7-c9e8-f7f21757be9a",
        "colab": {
          "base_uri": "https://localhost:8080/"
        }
      },
      "id": "qmFfrwU14juB",
      "execution_count": 36,
      "outputs": [
        {
          "output_type": "execute_result",
          "data": {
            "text/plain": [
              "(torch.Size([3]), torch.float32, device(type='cpu'))"
            ]
          },
          "metadata": {},
          "execution_count": 36
        }
      ]
    },
    {
      "cell_type": "code",
      "source": [],
      "metadata": {
        "id": "v86OK_YW5V6A"
      },
      "id": "v86OK_YW5V6A",
      "execution_count": null,
      "outputs": []
    }
  ],
  "metadata": {
    "kernelspec": {
      "display_name": "Python 3 (ipykernel)",
      "language": "python",
      "name": "python3"
    },
    "language_info": {
      "codemirror_mode": {
        "name": "ipython",
        "version": 3
      },
      "file_extension": ".py",
      "mimetype": "text/x-python",
      "name": "python",
      "nbconvert_exporter": "python",
      "pygments_lexer": "ipython3",
      "version": "3.11.7"
    },
    "colab": {
      "provenance": [],
      "include_colab_link": true
    }
  },
  "nbformat": 4,
  "nbformat_minor": 5
}