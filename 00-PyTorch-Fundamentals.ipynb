{
  "cells": [
    {
      "cell_type": "markdown",
      "metadata": {
        "id": "view-in-github",
        "colab_type": "text"
      },
      "source": [
        "<a href=\"https://colab.research.google.com/github/harnettd/learn-PyTorch/blob/main/00-PyTorch-Fundamentals.ipynb\" target=\"_parent\"><img src=\"https://colab.research.google.com/assets/colab-badge.svg\" alt=\"Open In Colab\"/></a>"
      ]
    },
    {
      "cell_type": "markdown",
      "id": "0902c5fd-5869-4859-9942-5588440c378f",
      "metadata": {
        "id": "0902c5fd-5869-4859-9942-5588440c378f"
      },
      "source": [
        "# 00. PyTorch Fundamentals"
      ]
    },
    {
      "cell_type": "code",
      "execution_count": 1,
      "id": "e2069081-d996-4583-8f29-ef1ee8e43cc0",
      "metadata": {
        "colab": {
          "base_uri": "https://localhost:8080/"
        },
        "id": "e2069081-d996-4583-8f29-ef1ee8e43cc0",
        "outputId": "81448b2e-6967-4d38-a3ea-4006a7e7a0f0"
      },
      "outputs": [
        {
          "output_type": "stream",
          "name": "stdout",
          "text": [
            "Cloning into 'learn-PyTorch'...\n",
            "remote: Enumerating objects: 7, done.\u001b[K\n",
            "remote: Counting objects: 100% (7/7), done.\u001b[K\n",
            "remote: Compressing objects: 100% (5/5), done.\u001b[K\n",
            "remote: Total 7 (delta 0), reused 7 (delta 0), pack-reused 0\u001b[K\n",
            "Receiving objects: 100% (7/7), done.\n"
          ]
        }
      ],
      "source": [
        "!git clone https://github.com/harnettd/learn-PyTorch.git"
      ]
    },
    {
      "cell_type": "markdown",
      "source": [
        "## Installs and Imports"
      ],
      "metadata": {
        "id": "dQCQ5KxqyuxW"
      },
      "id": "dQCQ5KxqyuxW"
    },
    {
      "cell_type": "code",
      "source": [
        "import torch"
      ],
      "metadata": {
        "id": "YvAkkAxLyRbU"
      },
      "id": "YvAkkAxLyRbU",
      "execution_count": 2,
      "outputs": []
    },
    {
      "cell_type": "markdown",
      "source": [
        "## Defining Tensors"
      ],
      "metadata": {
        "id": "ucf_qmqZzvfl"
      },
      "id": "ucf_qmqZzvfl"
    },
    {
      "cell_type": "markdown",
      "source": [
        "### Scalar"
      ],
      "metadata": {
        "id": "nDzUGJV50DhH"
      },
      "id": "nDzUGJV50DhH"
    },
    {
      "cell_type": "code",
      "source": [
        "scalar = torch.tensor(7)\n",
        "scalar"
      ],
      "metadata": {
        "colab": {
          "base_uri": "https://localhost:8080/"
        },
        "id": "VEDPeVcpy32c",
        "outputId": "faa77a21-9e16-4326-96c7-79ccdd9aab18"
      },
      "id": "VEDPeVcpy32c",
      "execution_count": 7,
      "outputs": [
        {
          "output_type": "execute_result",
          "data": {
            "text/plain": [
              "tensor(7)"
            ]
          },
          "metadata": {},
          "execution_count": 7
        }
      ]
    },
    {
      "cell_type": "code",
      "source": [
        "scalar.ndim"
      ],
      "metadata": {
        "colab": {
          "base_uri": "https://localhost:8080/"
        },
        "id": "F02PVe9Iz18i",
        "outputId": "a8735985-4da1-4945-dfdd-38217ca8107d"
      },
      "id": "F02PVe9Iz18i",
      "execution_count": 8,
      "outputs": [
        {
          "output_type": "execute_result",
          "data": {
            "text/plain": [
              "0"
            ]
          },
          "metadata": {},
          "execution_count": 8
        }
      ]
    },
    {
      "cell_type": "code",
      "source": [
        "scalar.item()"
      ],
      "metadata": {
        "colab": {
          "base_uri": "https://localhost:8080/"
        },
        "id": "aLzMxPLhz7cm",
        "outputId": "69d3e8ac-09e4-489c-ff23-049ac8eafffa"
      },
      "id": "aLzMxPLhz7cm",
      "execution_count": 9,
      "outputs": [
        {
          "output_type": "execute_result",
          "data": {
            "text/plain": [
              "7"
            ]
          },
          "metadata": {},
          "execution_count": 9
        }
      ]
    },
    {
      "cell_type": "markdown",
      "source": [
        "### Vector"
      ],
      "metadata": {
        "id": "CfU2SEya0F7i"
      },
      "id": "CfU2SEya0F7i"
    },
    {
      "cell_type": "code",
      "source": [
        "vector = torch.tensor([7, 7])\n",
        "vector"
      ],
      "metadata": {
        "colab": {
          "base_uri": "https://localhost:8080/"
        },
        "id": "zlZg3QISz_09",
        "outputId": "a72a875c-dd15-44fa-cd9f-edd3e2074a6c"
      },
      "id": "zlZg3QISz_09",
      "execution_count": 10,
      "outputs": [
        {
          "output_type": "execute_result",
          "data": {
            "text/plain": [
              "tensor([7, 7])"
            ]
          },
          "metadata": {},
          "execution_count": 10
        }
      ]
    },
    {
      "cell_type": "code",
      "source": [
        "vector.ndim"
      ],
      "metadata": {
        "colab": {
          "base_uri": "https://localhost:8080/"
        },
        "id": "CwP8yXNW0NiU",
        "outputId": "85c3dab9-3635-4472-b084-16641309304a"
      },
      "id": "CwP8yXNW0NiU",
      "execution_count": 11,
      "outputs": [
        {
          "output_type": "execute_result",
          "data": {
            "text/plain": [
              "1"
            ]
          },
          "metadata": {},
          "execution_count": 11
        }
      ]
    },
    {
      "cell_type": "code",
      "source": [
        "vector.shape"
      ],
      "metadata": {
        "colab": {
          "base_uri": "https://localhost:8080/"
        },
        "id": "VTD5PDCz0PNW",
        "outputId": "79aef0f5-cdeb-4172-c27b-306d89ca9943"
      },
      "id": "VTD5PDCz0PNW",
      "execution_count": 12,
      "outputs": [
        {
          "output_type": "execute_result",
          "data": {
            "text/plain": [
              "torch.Size([2])"
            ]
          },
          "metadata": {},
          "execution_count": 12
        }
      ]
    },
    {
      "cell_type": "markdown",
      "source": [
        "### Matrix"
      ],
      "metadata": {
        "id": "FhbelAY80Z5e"
      },
      "id": "FhbelAY80Z5e"
    },
    {
      "cell_type": "code",
      "source": [
        "MATRIX = torch.tensor([\n",
        "    [7, 8],\n",
        "    [9, 10]\n",
        "])\n",
        "MATRIX"
      ],
      "metadata": {
        "colab": {
          "base_uri": "https://localhost:8080/"
        },
        "id": "2lWSpL0E0Uth",
        "outputId": "1ac7812a-4c6b-4956-f9ee-0a46318ef845"
      },
      "id": "2lWSpL0E0Uth",
      "execution_count": 13,
      "outputs": [
        {
          "output_type": "execute_result",
          "data": {
            "text/plain": [
              "tensor([[ 7,  8],\n",
              "        [ 9, 10]])"
            ]
          },
          "metadata": {},
          "execution_count": 13
        }
      ]
    },
    {
      "cell_type": "code",
      "source": [
        "MATRIX.ndim"
      ],
      "metadata": {
        "colab": {
          "base_uri": "https://localhost:8080/"
        },
        "id": "8vDrkR860qI0",
        "outputId": "7483c307-4379-45eb-8303-cc6732e77932"
      },
      "id": "8vDrkR860qI0",
      "execution_count": 14,
      "outputs": [
        {
          "output_type": "execute_result",
          "data": {
            "text/plain": [
              "2"
            ]
          },
          "metadata": {},
          "execution_count": 14
        }
      ]
    },
    {
      "cell_type": "code",
      "source": [
        "MATRIX.shape"
      ],
      "metadata": {
        "colab": {
          "base_uri": "https://localhost:8080/"
        },
        "id": "zala4c2-0urG",
        "outputId": "f06b9003-8145-4604-aeb8-04a78e778b80"
      },
      "id": "zala4c2-0urG",
      "execution_count": 15,
      "outputs": [
        {
          "output_type": "execute_result",
          "data": {
            "text/plain": [
              "torch.Size([2, 2])"
            ]
          },
          "metadata": {},
          "execution_count": 15
        }
      ]
    },
    {
      "cell_type": "markdown",
      "source": [
        "## Tensor"
      ],
      "metadata": {
        "id": "eVU8nOc-1Do4"
      },
      "id": "eVU8nOc-1Do4"
    },
    {
      "cell_type": "code",
      "source": [
        "TENSOR = torch.tensor([\n",
        "    [\n",
        "        [1, 2, 3],\n",
        "        [3, 6, 9],\n",
        "        [2, 4, 5]\n",
        "    ]\n",
        "])\n",
        "TENSOR"
      ],
      "metadata": {
        "colab": {
          "base_uri": "https://localhost:8080/"
        },
        "id": "4MBnKZ4Y0ypH",
        "outputId": "f5f6fa41-2258-4b55-f24d-e7debb3f5aaa"
      },
      "id": "4MBnKZ4Y0ypH",
      "execution_count": 16,
      "outputs": [
        {
          "output_type": "execute_result",
          "data": {
            "text/plain": [
              "tensor([[[1, 2, 3],\n",
              "         [3, 6, 9],\n",
              "         [2, 4, 5]]])"
            ]
          },
          "metadata": {},
          "execution_count": 16
        }
      ]
    },
    {
      "cell_type": "code",
      "source": [
        "TENSOR.ndim"
      ],
      "metadata": {
        "colab": {
          "base_uri": "https://localhost:8080/"
        },
        "id": "KfwJk_Ka1rXa",
        "outputId": "158a5566-e741-47c2-8a0f-9fa9a5a650be"
      },
      "id": "KfwJk_Ka1rXa",
      "execution_count": 17,
      "outputs": [
        {
          "output_type": "execute_result",
          "data": {
            "text/plain": [
              "3"
            ]
          },
          "metadata": {},
          "execution_count": 17
        }
      ]
    },
    {
      "cell_type": "code",
      "source": [
        "TENSOR.shape"
      ],
      "metadata": {
        "colab": {
          "base_uri": "https://localhost:8080/"
        },
        "id": "yJyTaUZR1yT_",
        "outputId": "2aef9388-7a63-4fd9-ae74-ea2babd9cc60"
      },
      "id": "yJyTaUZR1yT_",
      "execution_count": 18,
      "outputs": [
        {
          "output_type": "execute_result",
          "data": {
            "text/plain": [
              "torch.Size([1, 3, 3])"
            ]
          },
          "metadata": {},
          "execution_count": 18
        }
      ]
    },
    {
      "cell_type": "markdown",
      "source": [
        "## Random Tensors"
      ],
      "metadata": {
        "id": "YmHrPaKK2qTe"
      },
      "id": "YmHrPaKK2qTe"
    },
    {
      "cell_type": "code",
      "source": [
        "random_tensor = torch.rand(size=(3, 4))\n",
        "random_tensor, random_tensor.dtype"
      ],
      "metadata": {
        "colab": {
          "base_uri": "https://localhost:8080/"
        },
        "id": "JHelXI1417LY",
        "outputId": "ba744d21-db95-4520-b40f-a010e64e1137"
      },
      "id": "JHelXI1417LY",
      "execution_count": 20,
      "outputs": [
        {
          "output_type": "execute_result",
          "data": {
            "text/plain": [
              "(tensor([[0.9542, 0.6059, 0.4845, 0.9388],\n",
              "         [0.8517, 0.3599, 0.7182, 0.0473],\n",
              "         [0.9920, 0.6504, 0.6396, 0.7607]]),\n",
              " torch.float32)"
            ]
          },
          "metadata": {},
          "execution_count": 20
        }
      ]
    },
    {
      "cell_type": "code",
      "source": [
        "random_image_size_tensor = torch.rand(size=(224, 224, 3))\n",
        "random_image_size_tensor.ndim, random_image_size_tensor.shape"
      ],
      "metadata": {
        "colab": {
          "base_uri": "https://localhost:8080/"
        },
        "id": "FLX_6Kzp281B",
        "outputId": "ba85bb77-6467-4b57-e4c1-f00ea65c7bdb"
      },
      "id": "FLX_6Kzp281B",
      "execution_count": 21,
      "outputs": [
        {
          "output_type": "execute_result",
          "data": {
            "text/plain": [
              "(3, torch.Size([224, 224, 3]))"
            ]
          },
          "metadata": {},
          "execution_count": 21
        }
      ]
    },
    {
      "cell_type": "markdown",
      "source": [
        "## Zeros and Ones"
      ],
      "metadata": {
        "id": "gktE7omG3nUa"
      },
      "id": "gktE7omG3nUa"
    },
    {
      "cell_type": "code",
      "source": [
        "zeros = torch.zeros(size=(3, 4))\n",
        "zeros, zeros.dtype"
      ],
      "metadata": {
        "colab": {
          "base_uri": "https://localhost:8080/"
        },
        "id": "C_S35YhY3eXj",
        "outputId": "56605f79-e846-4622-dfe9-c569c209f4f6"
      },
      "id": "C_S35YhY3eXj",
      "execution_count": 22,
      "outputs": [
        {
          "output_type": "execute_result",
          "data": {
            "text/plain": [
              "(tensor([[0., 0., 0., 0.],\n",
              "         [0., 0., 0., 0.],\n",
              "         [0., 0., 0., 0.]]),\n",
              " torch.float32)"
            ]
          },
          "metadata": {},
          "execution_count": 22
        }
      ]
    },
    {
      "cell_type": "code",
      "source": [
        "ones = torch.ones(size=(3, 4))\n",
        "ones, ones.dtype"
      ],
      "metadata": {
        "colab": {
          "base_uri": "https://localhost:8080/"
        },
        "id": "S8Iu6qKI3xtB",
        "outputId": "5211152b-462e-4ef5-be41-97f27630b710"
      },
      "id": "S8Iu6qKI3xtB",
      "execution_count": 23,
      "outputs": [
        {
          "output_type": "execute_result",
          "data": {
            "text/plain": [
              "(tensor([[1., 1., 1., 1.],\n",
              "         [1., 1., 1., 1.],\n",
              "         [1., 1., 1., 1.]]),\n",
              " torch.float32)"
            ]
          },
          "metadata": {},
          "execution_count": 23
        }
      ]
    },
    {
      "cell_type": "markdown",
      "source": [
        "## `arange` and like"
      ],
      "metadata": {
        "id": "l0xliBnz4Eag"
      },
      "id": "l0xliBnz4Eag"
    },
    {
      "cell_type": "code",
      "source": [
        "v = torch.arange(0, 10)\n",
        "v"
      ],
      "metadata": {
        "colab": {
          "base_uri": "https://localhost:8080/"
        },
        "id": "cmebrlX636Qu",
        "outputId": "f8f9cba5-52ba-43a6-f135-8b28ae407da2"
      },
      "id": "cmebrlX636Qu",
      "execution_count": 25,
      "outputs": [
        {
          "output_type": "execute_result",
          "data": {
            "text/plain": [
              "tensor([0, 1, 2, 3, 4, 5, 6, 7, 8, 9])"
            ]
          },
          "metadata": {},
          "execution_count": 25
        }
      ]
    },
    {
      "cell_type": "code",
      "source": [
        "torch.zeros_like(v)"
      ],
      "metadata": {
        "colab": {
          "base_uri": "https://localhost:8080/"
        },
        "id": "ewUo5ifP4OXd",
        "outputId": "0c2ea272-f457-434e-8fff-20097d4424a2"
      },
      "id": "ewUo5ifP4OXd",
      "execution_count": 26,
      "outputs": [
        {
          "output_type": "execute_result",
          "data": {
            "text/plain": [
              "tensor([0, 0, 0, 0, 0, 0, 0, 0, 0, 0])"
            ]
          },
          "metadata": {},
          "execution_count": 26
        }
      ]
    },
    {
      "cell_type": "code",
      "source": [
        "torch.ones_like(v)"
      ],
      "metadata": {
        "colab": {
          "base_uri": "https://localhost:8080/"
        },
        "id": "ITIxOZmd4ah6",
        "outputId": "0e3af4c5-1b05-4b9f-858e-70805fea18c7"
      },
      "id": "ITIxOZmd4ah6",
      "execution_count": 27,
      "outputs": [
        {
          "output_type": "execute_result",
          "data": {
            "text/plain": [
              "tensor([1, 1, 1, 1, 1, 1, 1, 1, 1, 1])"
            ]
          },
          "metadata": {},
          "execution_count": 27
        }
      ]
    },
    {
      "cell_type": "code",
      "source": [],
      "metadata": {
        "id": "Pr7P50uP4d6C"
      },
      "id": "Pr7P50uP4d6C",
      "execution_count": null,
      "outputs": []
    },
    {
      "cell_type": "markdown",
      "source": [
        "## Tensor Datatypes"
      ],
      "metadata": {
        "id": "i9iJe4RO4hgc"
      },
      "id": "i9iJe4RO4hgc"
    },
    {
      "cell_type": "code",
      "source": [
        "float_32_tensor = torch.tensor(\n",
        "    [3, 6, 9],\n",
        "    dtype=torch.float,\n",
        "    device=None,\n",
        "    requires_grad=False\n",
        ")\n",
        "float_32_tensor.shape, float_32_tensor.dtype, float_32_tensor.device"
      ],
      "metadata": {
        "colab": {
          "base_uri": "https://localhost:8080/"
        },
        "id": "qmFfrwU14juB",
        "outputId": "f6601010-5305-4ec7-c9e8-f7f21757be9a"
      },
      "id": "qmFfrwU14juB",
      "execution_count": 36,
      "outputs": [
        {
          "output_type": "execute_result",
          "data": {
            "text/plain": [
              "(torch.Size([3]), torch.float32, device(type='cpu'))"
            ]
          },
          "metadata": {},
          "execution_count": 36
        }
      ]
    },
    {
      "cell_type": "code",
      "source": [],
      "metadata": {
        "id": "v86OK_YW5V6A"
      },
      "id": "v86OK_YW5V6A",
      "execution_count": null,
      "outputs": []
    },
    {
      "cell_type": "markdown",
      "source": [
        "## Manipulating Tensors"
      ],
      "metadata": {
        "id": "uGi7f4TyA-uC"
      },
      "id": "uGi7f4TyA-uC"
    },
    {
      "cell_type": "code",
      "source": [
        "tensor = torch.tensor([1, 2, 3])\n",
        "tensor + 10, tensor * 10"
      ],
      "metadata": {
        "id": "4hghqRlaBA12",
        "outputId": "114bb059-b39b-46e2-e161-9c759263dacf",
        "colab": {
          "base_uri": "https://localhost:8080/"
        }
      },
      "id": "4hghqRlaBA12",
      "execution_count": 38,
      "outputs": [
        {
          "output_type": "execute_result",
          "data": {
            "text/plain": [
              "(tensor([11, 12, 13]), tensor([10, 20, 30]))"
            ]
          },
          "metadata": {},
          "execution_count": 38
        }
      ]
    },
    {
      "cell_type": "code",
      "source": [
        "tensor = tensor - 10\n",
        "tensor"
      ],
      "metadata": {
        "id": "JSv7bmuABOXZ",
        "outputId": "35df52c1-e0b7-436d-96e6-09dbb7ebaf8f",
        "colab": {
          "base_uri": "https://localhost:8080/"
        }
      },
      "id": "JSv7bmuABOXZ",
      "execution_count": 39,
      "outputs": [
        {
          "output_type": "execute_result",
          "data": {
            "text/plain": [
              "tensor([-9, -8, -7])"
            ]
          },
          "metadata": {},
          "execution_count": 39
        }
      ]
    },
    {
      "cell_type": "code",
      "source": [
        "tensor = tensor + 10\n",
        "tensor"
      ],
      "metadata": {
        "id": "zCS-W-dUBXZ9",
        "outputId": "8a9e8693-2afe-403e-896a-a195c6c94cc4",
        "colab": {
          "base_uri": "https://localhost:8080/"
        }
      },
      "id": "zCS-W-dUBXZ9",
      "execution_count": 40,
      "outputs": [
        {
          "output_type": "execute_result",
          "data": {
            "text/plain": [
              "tensor([1, 2, 3])"
            ]
          },
          "metadata": {},
          "execution_count": 40
        }
      ]
    },
    {
      "cell_type": "code",
      "source": [
        "tensor * tensor"
      ],
      "metadata": {
        "id": "mT8vjnWnBgj5",
        "outputId": "a8ad8f4f-6510-494f-d1d8-be1fc546618c",
        "colab": {
          "base_uri": "https://localhost:8080/"
        }
      },
      "id": "mT8vjnWnBgj5",
      "execution_count": 41,
      "outputs": [
        {
          "output_type": "execute_result",
          "data": {
            "text/plain": [
              "tensor([1, 4, 9])"
            ]
          },
          "metadata": {},
          "execution_count": 41
        }
      ]
    },
    {
      "cell_type": "code",
      "source": [
        "tensor / tensor"
      ],
      "metadata": {
        "id": "HBTP8A0CBu6p",
        "outputId": "e09d928e-9997-4352-d25e-864aa771c130",
        "colab": {
          "base_uri": "https://localhost:8080/"
        }
      },
      "id": "HBTP8A0CBu6p",
      "execution_count": 42,
      "outputs": [
        {
          "output_type": "execute_result",
          "data": {
            "text/plain": [
              "tensor([1., 1., 1.])"
            ]
          },
          "metadata": {},
          "execution_count": 42
        }
      ]
    },
    {
      "cell_type": "code",
      "source": [
        "tensor.shape"
      ],
      "metadata": {
        "id": "Ry3Km7plBwwZ",
        "outputId": "7baa5c62-dd40-4aea-8178-dbabd83c5c7a",
        "colab": {
          "base_uri": "https://localhost:8080/"
        }
      },
      "id": "Ry3Km7plBwwZ",
      "execution_count": 44,
      "outputs": [
        {
          "output_type": "execute_result",
          "data": {
            "text/plain": [
              "torch.Size([3])"
            ]
          },
          "metadata": {},
          "execution_count": 44
        }
      ]
    },
    {
      "cell_type": "markdown",
      "source": [
        "### Matrix Multiplication"
      ],
      "metadata": {
        "id": "au6Br2TnDRp0"
      },
      "id": "au6Br2TnDRp0"
    },
    {
      "cell_type": "code",
      "source": [
        "tensor @ tensor"
      ],
      "metadata": {
        "id": "GQKXAL8fB8TH",
        "outputId": "5ecb233e-dd71-49f5-f5c0-f48f636e5810",
        "colab": {
          "base_uri": "https://localhost:8080/"
        }
      },
      "id": "GQKXAL8fB8TH",
      "execution_count": 45,
      "outputs": [
        {
          "output_type": "execute_result",
          "data": {
            "text/plain": [
              "tensor(14)"
            ]
          },
          "metadata": {},
          "execution_count": 45
        }
      ]
    },
    {
      "cell_type": "code",
      "source": [
        "tensor_A = torch.tensor([[1, 2],\n",
        "                         [3, 4],\n",
        "                         [5, 6]], dtype=torch.float32)\n",
        "\n",
        "tensor_B = torch.tensor([[7, 10],\n",
        "                         [8, 11],\n",
        "                         [9, 12]], dtype=torch.float32)"
      ],
      "metadata": {
        "id": "nnnXoYMjCJAq"
      },
      "id": "nnnXoYMjCJAq",
      "execution_count": 46,
      "outputs": []
    },
    {
      "cell_type": "code",
      "source": [
        "torch.transpose(tensor_B, 0, 1)"
      ],
      "metadata": {
        "id": "xtdlQwCVCh9h",
        "outputId": "d35df8f6-9b90-49cd-8561-02a1340e7d16",
        "colab": {
          "base_uri": "https://localhost:8080/"
        }
      },
      "id": "xtdlQwCVCh9h",
      "execution_count": 48,
      "outputs": [
        {
          "output_type": "execute_result",
          "data": {
            "text/plain": [
              "tensor([[ 7.,  8.,  9.],\n",
              "        [10., 11., 12.]])"
            ]
          },
          "metadata": {},
          "execution_count": 48
        }
      ]
    },
    {
      "cell_type": "code",
      "source": [
        "tensor_B.T"
      ],
      "metadata": {
        "id": "5VqKqzQPCopL",
        "outputId": "02a1bb83-b7c7-41e5-d8e0-b265d68a036c",
        "colab": {
          "base_uri": "https://localhost:8080/"
        }
      },
      "id": "5VqKqzQPCopL",
      "execution_count": 49,
      "outputs": [
        {
          "output_type": "execute_result",
          "data": {
            "text/plain": [
              "tensor([[ 7.,  8.,  9.],\n",
              "        [10., 11., 12.]])"
            ]
          },
          "metadata": {},
          "execution_count": 49
        }
      ]
    },
    {
      "cell_type": "code",
      "source": [
        "tensor_A @ tensor_B.T"
      ],
      "metadata": {
        "id": "qeRbj67yCzuL",
        "outputId": "4895be08-1ea5-4889-9ab7-ad302ffb6a79",
        "colab": {
          "base_uri": "https://localhost:8080/"
        }
      },
      "id": "qeRbj67yCzuL",
      "execution_count": 50,
      "outputs": [
        {
          "output_type": "execute_result",
          "data": {
            "text/plain": [
              "tensor([[ 27.,  30.,  33.],\n",
              "        [ 61.,  68.,  75.],\n",
              "        [ 95., 106., 117.]])"
            ]
          },
          "metadata": {},
          "execution_count": 50
        }
      ]
    },
    {
      "cell_type": "code",
      "source": [
        "torch.matmul(tensor_A, tensor_B.T)"
      ],
      "metadata": {
        "id": "Nm3cMHtEC4Q2",
        "outputId": "5bb701e4-bfa4-4972-d3a7-e5c824797d21",
        "colab": {
          "base_uri": "https://localhost:8080/"
        }
      },
      "id": "Nm3cMHtEC4Q2",
      "execution_count": 51,
      "outputs": [
        {
          "output_type": "execute_result",
          "data": {
            "text/plain": [
              "tensor([[ 27.,  30.,  33.],\n",
              "        [ 61.,  68.,  75.],\n",
              "        [ 95., 106., 117.]])"
            ]
          },
          "metadata": {},
          "execution_count": 51
        }
      ]
    },
    {
      "cell_type": "code",
      "source": [
        "torch.mm(tensor_A, tensor_B.T)"
      ],
      "metadata": {
        "id": "gXnkyVPZDIPN",
        "outputId": "4bd8101f-eb73-4969-af7f-d657c213ff0e",
        "colab": {
          "base_uri": "https://localhost:8080/"
        }
      },
      "id": "gXnkyVPZDIPN",
      "execution_count": 52,
      "outputs": [
        {
          "output_type": "execute_result",
          "data": {
            "text/plain": [
              "tensor([[ 27.,  30.,  33.],\n",
              "        [ 61.,  68.,  75.],\n",
              "        [ 95., 106., 117.]])"
            ]
          },
          "metadata": {},
          "execution_count": 52
        }
      ]
    },
    {
      "cell_type": "markdown",
      "source": [
        "## Linear Layers"
      ],
      "metadata": {
        "id": "PK-ur9R0DtJJ"
      },
      "id": "PK-ur9R0DtJJ"
    },
    {
      "cell_type": "code",
      "source": [
        "torch.manual_seed(42)\n",
        "linear = torch.nn.Linear(in_features=2, out_features=6)\n",
        "x = tensor_A\n",
        "output = linear(x)\n",
        "output"
      ],
      "metadata": {
        "id": "8gWRReWnDKxR",
        "outputId": "23f6a218-9492-4a8d-986b-c6554590f928",
        "colab": {
          "base_uri": "https://localhost:8080/"
        }
      },
      "id": "8gWRReWnDKxR",
      "execution_count": 56,
      "outputs": [
        {
          "output_type": "execute_result",
          "data": {
            "text/plain": [
              "tensor([[2.2368, 1.2292, 0.4714, 0.3864, 0.1309, 0.9838],\n",
              "        [4.4919, 2.1970, 0.4469, 0.5285, 0.3401, 2.4777],\n",
              "        [6.7469, 3.1648, 0.4224, 0.6705, 0.5493, 3.9716]],\n",
              "       grad_fn=<AddmmBackward0>)"
            ]
          },
          "metadata": {},
          "execution_count": 56
        }
      ]
    },
    {
      "cell_type": "code",
      "source": [
        "torch.manual_seed(42)\n",
        "linear = torch.nn.Linear(in_features=3, out_features=6)\n",
        "x = tensor_A.T\n",
        "output = linear(x)\n",
        "output"
      ],
      "metadata": {
        "id": "QY6re9eSEuDd",
        "outputId": "608b3a3a-bf10-46fa-9b49-0e9effd4f15b",
        "colab": {
          "base_uri": "https://localhost:8080/"
        }
      },
      "id": "QY6re9eSEuDd",
      "execution_count": 57,
      "outputs": [
        {
          "output_type": "execute_result",
          "data": {
            "text/plain": [
              "tensor([[0.9332, 0.8805, 3.0149, 1.5545, 1.8186, 2.0634],\n",
              "        [1.7186, 1.4009, 3.5818, 1.7408, 2.6017, 2.5123]],\n",
              "       grad_fn=<AddmmBackward0>)"
            ]
          },
          "metadata": {},
          "execution_count": 57
        }
      ]
    },
    {
      "cell_type": "markdown",
      "source": [
        "## Aggregation"
      ],
      "metadata": {
        "id": "KcA-xjyKFbI_"
      },
      "id": "KcA-xjyKFbI_"
    },
    {
      "cell_type": "code",
      "source": [
        "x = torch.arange(0, 100, 10)\n",
        "x"
      ],
      "metadata": {
        "id": "GrivFEAzFG7c",
        "outputId": "8f2a4176-a28b-4cc2-df61-0dc1c6e93d19",
        "colab": {
          "base_uri": "https://localhost:8080/"
        }
      },
      "id": "GrivFEAzFG7c",
      "execution_count": 58,
      "outputs": [
        {
          "output_type": "execute_result",
          "data": {
            "text/plain": [
              "tensor([ 0, 10, 20, 30, 40, 50, 60, 70, 80, 90])"
            ]
          },
          "metadata": {},
          "execution_count": 58
        }
      ]
    },
    {
      "cell_type": "code",
      "source": [
        "x.min(), x.max(), x.sum()"
      ],
      "metadata": {
        "id": "IYIOnl3nFhha",
        "outputId": "275c5883-5e94-4c0f-acea-eff4ad5c5460",
        "colab": {
          "base_uri": "https://localhost:8080/"
        }
      },
      "id": "IYIOnl3nFhha",
      "execution_count": 59,
      "outputs": [
        {
          "output_type": "execute_result",
          "data": {
            "text/plain": [
              "(tensor(0), tensor(90), tensor(450))"
            ]
          },
          "metadata": {},
          "execution_count": 59
        }
      ]
    },
    {
      "cell_type": "code",
      "source": [
        "x.type(torch.float).mean()"
      ],
      "metadata": {
        "id": "53A-Ah6sFpa-",
        "outputId": "c9c7944f-dabe-4036-c194-10222f752c34",
        "colab": {
          "base_uri": "https://localhost:8080/"
        }
      },
      "id": "53A-Ah6sFpa-",
      "execution_count": 63,
      "outputs": [
        {
          "output_type": "execute_result",
          "data": {
            "text/plain": [
              "tensor(45.)"
            ]
          },
          "metadata": {},
          "execution_count": 63
        }
      ]
    },
    {
      "cell_type": "code",
      "source": [
        "x.argmin(), x.argmax()"
      ],
      "metadata": {
        "id": "vxx_PLghFvi_",
        "outputId": "6c7bcf60-482c-4c80-e079-6a0b7624b5c6",
        "colab": {
          "base_uri": "https://localhost:8080/"
        }
      },
      "id": "vxx_PLghFvi_",
      "execution_count": 64,
      "outputs": [
        {
          "output_type": "execute_result",
          "data": {
            "text/plain": [
              "(tensor(0), tensor(9))"
            ]
          },
          "metadata": {},
          "execution_count": 64
        }
      ]
    },
    {
      "cell_type": "markdown",
      "source": [
        "## Changing Datatypes"
      ],
      "metadata": {
        "id": "rH3KKtMIGR7C"
      },
      "id": "rH3KKtMIGR7C"
    },
    {
      "cell_type": "code",
      "source": [
        "y = torch.arange(0., 100., 10.)\n",
        "y.dtype"
      ],
      "metadata": {
        "id": "8LNSE0APGFHF",
        "outputId": "d5f32bb9-34d9-4576-d356-561d2298058e",
        "colab": {
          "base_uri": "https://localhost:8080/"
        }
      },
      "id": "8LNSE0APGFHF",
      "execution_count": 66,
      "outputs": [
        {
          "output_type": "execute_result",
          "data": {
            "text/plain": [
              "torch.float32"
            ]
          },
          "metadata": {},
          "execution_count": 66
        }
      ]
    },
    {
      "cell_type": "code",
      "source": [
        "z = y.type(torch.half)\n",
        "z.dtype"
      ],
      "metadata": {
        "id": "AZ9gMKzlGkyg",
        "outputId": "fc08ceb3-ecf7-4e7e-e80d-4f762688051c",
        "colab": {
          "base_uri": "https://localhost:8080/"
        }
      },
      "id": "AZ9gMKzlGkyg",
      "execution_count": 67,
      "outputs": [
        {
          "output_type": "execute_result",
          "data": {
            "text/plain": [
              "torch.float16"
            ]
          },
          "metadata": {},
          "execution_count": 67
        }
      ]
    },
    {
      "cell_type": "code",
      "source": [
        "w = z.type(torch.int8)\n",
        "w, w.dtype"
      ],
      "metadata": {
        "id": "qP-iJu9nG8aX",
        "outputId": "22f5a16e-f438-46d5-9e1b-c8e5e164cacf",
        "colab": {
          "base_uri": "https://localhost:8080/"
        }
      },
      "id": "qP-iJu9nG8aX",
      "execution_count": 69,
      "outputs": [
        {
          "output_type": "execute_result",
          "data": {
            "text/plain": [
              "(tensor([ 0, 10, 20, 30, 40, 50, 60, 70, 80, 90], dtype=torch.int8),\n",
              " torch.int8)"
            ]
          },
          "metadata": {},
          "execution_count": 69
        }
      ]
    },
    {
      "cell_type": "markdown",
      "source": [
        "## Reshaping, Stacking, and Squeezing"
      ],
      "metadata": {
        "id": "B5MkEi2PHT2Q"
      },
      "id": "B5MkEi2PHT2Q"
    },
    {
      "cell_type": "code",
      "source": [],
      "metadata": {
        "id": "NbZmGRZoHDfA"
      },
      "id": "NbZmGRZoHDfA",
      "execution_count": null,
      "outputs": []
    }
  ],
  "metadata": {
    "kernelspec": {
      "display_name": "Python 3 (ipykernel)",
      "language": "python",
      "name": "python3"
    },
    "language_info": {
      "codemirror_mode": {
        "name": "ipython",
        "version": 3
      },
      "file_extension": ".py",
      "mimetype": "text/x-python",
      "name": "python",
      "nbconvert_exporter": "python",
      "pygments_lexer": "ipython3",
      "version": "3.11.7"
    },
    "colab": {
      "provenance": [],
      "include_colab_link": true
    }
  },
  "nbformat": 4,
  "nbformat_minor": 5
}