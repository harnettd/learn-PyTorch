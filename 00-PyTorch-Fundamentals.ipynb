{
  "cells": [
    {
      "cell_type": "markdown",
      "metadata": {
        "id": "view-in-github",
        "colab_type": "text"
      },
      "source": [
        "<a href=\"https://colab.research.google.com/github/harnettd/learn-PyTorch/blob/main/00-PyTorch-Fundamentals.ipynb\" target=\"_parent\"><img src=\"https://colab.research.google.com/assets/colab-badge.svg\" alt=\"Open In Colab\"/></a>"
      ]
    },
    {
      "cell_type": "markdown",
      "id": "0902c5fd-5869-4859-9942-5588440c378f",
      "metadata": {
        "id": "0902c5fd-5869-4859-9942-5588440c378f"
      },
      "source": [
        "# 00. PyTorch Fundamentals"
      ]
    },
    {
      "cell_type": "code",
      "execution_count": 2,
      "id": "e2069081-d996-4583-8f29-ef1ee8e43cc0",
      "metadata": {
        "colab": {
          "base_uri": "https://localhost:8080/"
        },
        "id": "e2069081-d996-4583-8f29-ef1ee8e43cc0",
        "outputId": "7e87ee9e-392e-4dbf-ec30-9e0a89c1027e"
      },
      "outputs": [
        {
          "output_type": "stream",
          "name": "stdout",
          "text": [
            "Cloning into 'learn-PyTorch'...\n",
            "remote: Enumerating objects: 13, done.\u001b[K\n",
            "remote: Counting objects: 100% (13/13), done.\u001b[K\n",
            "remote: Compressing objects: 100% (11/11), done.\u001b[K\n",
            "remote: Total 13 (delta 4), reused 5 (delta 0), pack-reused 0\u001b[K\n",
            "Receiving objects: 100% (13/13), 6.49 KiB | 6.49 MiB/s, done.\n",
            "Resolving deltas: 100% (4/4), done.\n"
          ]
        }
      ],
      "source": [
        "!git clone https://github.com/harnettd/learn-PyTorch.git"
      ]
    },
    {
      "cell_type": "markdown",
      "source": [
        "## Installs and Imports"
      ],
      "metadata": {
        "id": "dQCQ5KxqyuxW"
      },
      "id": "dQCQ5KxqyuxW"
    },
    {
      "cell_type": "code",
      "source": [
        "import numpy as np\n",
        "import random\n",
        "import torch"
      ],
      "metadata": {
        "id": "YvAkkAxLyRbU"
      },
      "id": "YvAkkAxLyRbU",
      "execution_count": 1,
      "outputs": []
    },
    {
      "cell_type": "code",
      "source": [
        "device = 'cuda' if torch.cuda.is_available() else 'cpu'\n",
        "print(f'device: {device}')"
      ],
      "metadata": {
        "id": "omn5Poyjl3Dm",
        "outputId": "990aae4b-2407-4e69-d0db-8f5b50dc7f09",
        "colab": {
          "base_uri": "https://localhost:8080/"
        }
      },
      "id": "omn5Poyjl3Dm",
      "execution_count": 3,
      "outputs": [
        {
          "output_type": "stream",
          "name": "stdout",
          "text": [
            "device: cuda\n"
          ]
        }
      ]
    },
    {
      "cell_type": "code",
      "source": [
        "torch.cuda.device_count()"
      ],
      "metadata": {
        "id": "WtSf-y94mfTQ",
        "outputId": "02f65f3c-0fa9-49e7-a2dc-79324a3375a2",
        "colab": {
          "base_uri": "https://localhost:8080/"
        }
      },
      "id": "WtSf-y94mfTQ",
      "execution_count": 4,
      "outputs": [
        {
          "output_type": "execute_result",
          "data": {
            "text/plain": [
              "1"
            ]
          },
          "metadata": {},
          "execution_count": 4
        }
      ]
    },
    {
      "cell_type": "markdown",
      "source": [
        "## Defining Tensors"
      ],
      "metadata": {
        "id": "ucf_qmqZzvfl"
      },
      "id": "ucf_qmqZzvfl"
    },
    {
      "cell_type": "markdown",
      "source": [
        "### Scalar"
      ],
      "metadata": {
        "id": "nDzUGJV50DhH"
      },
      "id": "nDzUGJV50DhH"
    },
    {
      "cell_type": "code",
      "source": [
        "scalar = torch.tensor(7)\n",
        "scalar"
      ],
      "metadata": {
        "colab": {
          "base_uri": "https://localhost:8080/"
        },
        "id": "VEDPeVcpy32c",
        "outputId": "c7ba3097-7984-4fd8-e9a9-e5e9974749ee"
      },
      "id": "VEDPeVcpy32c",
      "execution_count": 4,
      "outputs": [
        {
          "output_type": "execute_result",
          "data": {
            "text/plain": [
              "tensor(7)"
            ]
          },
          "metadata": {},
          "execution_count": 4
        }
      ]
    },
    {
      "cell_type": "code",
      "source": [
        "scalar.ndim"
      ],
      "metadata": {
        "colab": {
          "base_uri": "https://localhost:8080/"
        },
        "id": "F02PVe9Iz18i",
        "outputId": "e2891c58-d62d-41e6-ab9f-7d0c0ef1cf01"
      },
      "id": "F02PVe9Iz18i",
      "execution_count": 5,
      "outputs": [
        {
          "output_type": "execute_result",
          "data": {
            "text/plain": [
              "0"
            ]
          },
          "metadata": {},
          "execution_count": 5
        }
      ]
    },
    {
      "cell_type": "code",
      "source": [
        "scalar.item()"
      ],
      "metadata": {
        "colab": {
          "base_uri": "https://localhost:8080/"
        },
        "id": "aLzMxPLhz7cm",
        "outputId": "1ecbe959-eb66-43a6-d08d-ff4e3a6c39a3"
      },
      "id": "aLzMxPLhz7cm",
      "execution_count": 6,
      "outputs": [
        {
          "output_type": "execute_result",
          "data": {
            "text/plain": [
              "7"
            ]
          },
          "metadata": {},
          "execution_count": 6
        }
      ]
    },
    {
      "cell_type": "markdown",
      "source": [
        "### Vector"
      ],
      "metadata": {
        "id": "CfU2SEya0F7i"
      },
      "id": "CfU2SEya0F7i"
    },
    {
      "cell_type": "code",
      "source": [
        "vector = torch.tensor([7, 7])\n",
        "vector"
      ],
      "metadata": {
        "colab": {
          "base_uri": "https://localhost:8080/"
        },
        "id": "zlZg3QISz_09",
        "outputId": "9a99103f-1131-49aa-e74a-c87be557bb2f"
      },
      "id": "zlZg3QISz_09",
      "execution_count": 7,
      "outputs": [
        {
          "output_type": "execute_result",
          "data": {
            "text/plain": [
              "tensor([7, 7])"
            ]
          },
          "metadata": {},
          "execution_count": 7
        }
      ]
    },
    {
      "cell_type": "code",
      "source": [
        "vector.ndim"
      ],
      "metadata": {
        "colab": {
          "base_uri": "https://localhost:8080/"
        },
        "id": "CwP8yXNW0NiU",
        "outputId": "516a9a9d-c5ce-46e3-c7cd-1527df96dc9c"
      },
      "id": "CwP8yXNW0NiU",
      "execution_count": 8,
      "outputs": [
        {
          "output_type": "execute_result",
          "data": {
            "text/plain": [
              "1"
            ]
          },
          "metadata": {},
          "execution_count": 8
        }
      ]
    },
    {
      "cell_type": "code",
      "source": [
        "vector.shape"
      ],
      "metadata": {
        "colab": {
          "base_uri": "https://localhost:8080/"
        },
        "id": "VTD5PDCz0PNW",
        "outputId": "8c9b668d-67d7-483b-a4b2-84aeb55e95d8"
      },
      "id": "VTD5PDCz0PNW",
      "execution_count": 9,
      "outputs": [
        {
          "output_type": "execute_result",
          "data": {
            "text/plain": [
              "torch.Size([2])"
            ]
          },
          "metadata": {},
          "execution_count": 9
        }
      ]
    },
    {
      "cell_type": "markdown",
      "source": [
        "### Matrix"
      ],
      "metadata": {
        "id": "FhbelAY80Z5e"
      },
      "id": "FhbelAY80Z5e"
    },
    {
      "cell_type": "code",
      "source": [
        "MATRIX = torch.tensor([\n",
        "    [7, 8],\n",
        "    [9, 10]\n",
        "])\n",
        "MATRIX"
      ],
      "metadata": {
        "colab": {
          "base_uri": "https://localhost:8080/"
        },
        "id": "2lWSpL0E0Uth",
        "outputId": "7fb120b4-e7fb-488e-dc53-ac27553e6bf9"
      },
      "id": "2lWSpL0E0Uth",
      "execution_count": 10,
      "outputs": [
        {
          "output_type": "execute_result",
          "data": {
            "text/plain": [
              "tensor([[ 7,  8],\n",
              "        [ 9, 10]])"
            ]
          },
          "metadata": {},
          "execution_count": 10
        }
      ]
    },
    {
      "cell_type": "code",
      "source": [
        "MATRIX.ndim"
      ],
      "metadata": {
        "colab": {
          "base_uri": "https://localhost:8080/"
        },
        "id": "8vDrkR860qI0",
        "outputId": "d594e145-39dd-4c99-fc2a-efe2827cbc9d"
      },
      "id": "8vDrkR860qI0",
      "execution_count": 11,
      "outputs": [
        {
          "output_type": "execute_result",
          "data": {
            "text/plain": [
              "2"
            ]
          },
          "metadata": {},
          "execution_count": 11
        }
      ]
    },
    {
      "cell_type": "code",
      "source": [
        "MATRIX.shape"
      ],
      "metadata": {
        "colab": {
          "base_uri": "https://localhost:8080/"
        },
        "id": "zala4c2-0urG",
        "outputId": "49f7f4b0-1929-4e8b-9e85-66f68b56102f"
      },
      "id": "zala4c2-0urG",
      "execution_count": 12,
      "outputs": [
        {
          "output_type": "execute_result",
          "data": {
            "text/plain": [
              "torch.Size([2, 2])"
            ]
          },
          "metadata": {},
          "execution_count": 12
        }
      ]
    },
    {
      "cell_type": "markdown",
      "source": [
        "## Tensors"
      ],
      "metadata": {
        "id": "eVU8nOc-1Do4"
      },
      "id": "eVU8nOc-1Do4"
    },
    {
      "cell_type": "code",
      "source": [
        "TENSOR = torch.tensor([\n",
        "    [\n",
        "        [1, 2, 3],\n",
        "        [3, 6, 9],\n",
        "        [2, 4, 5]\n",
        "    ]\n",
        "])\n",
        "TENSOR"
      ],
      "metadata": {
        "colab": {
          "base_uri": "https://localhost:8080/"
        },
        "id": "4MBnKZ4Y0ypH",
        "outputId": "733b01c0-9467-4836-fab8-805f289c6c2a"
      },
      "id": "4MBnKZ4Y0ypH",
      "execution_count": 13,
      "outputs": [
        {
          "output_type": "execute_result",
          "data": {
            "text/plain": [
              "tensor([[[1, 2, 3],\n",
              "         [3, 6, 9],\n",
              "         [2, 4, 5]]])"
            ]
          },
          "metadata": {},
          "execution_count": 13
        }
      ]
    },
    {
      "cell_type": "code",
      "source": [
        "TENSOR.ndim"
      ],
      "metadata": {
        "colab": {
          "base_uri": "https://localhost:8080/"
        },
        "id": "KfwJk_Ka1rXa",
        "outputId": "7cd7639a-7da9-4a11-a15f-340d01f0d8e9"
      },
      "id": "KfwJk_Ka1rXa",
      "execution_count": 14,
      "outputs": [
        {
          "output_type": "execute_result",
          "data": {
            "text/plain": [
              "3"
            ]
          },
          "metadata": {},
          "execution_count": 14
        }
      ]
    },
    {
      "cell_type": "code",
      "source": [
        "TENSOR.shape"
      ],
      "metadata": {
        "colab": {
          "base_uri": "https://localhost:8080/"
        },
        "id": "yJyTaUZR1yT_",
        "outputId": "48f5019c-5f44-4f3a-96e2-abb6fbeb4558"
      },
      "id": "yJyTaUZR1yT_",
      "execution_count": 15,
      "outputs": [
        {
          "output_type": "execute_result",
          "data": {
            "text/plain": [
              "torch.Size([1, 3, 3])"
            ]
          },
          "metadata": {},
          "execution_count": 15
        }
      ]
    },
    {
      "cell_type": "markdown",
      "source": [
        "## Random Tensors"
      ],
      "metadata": {
        "id": "YmHrPaKK2qTe"
      },
      "id": "YmHrPaKK2qTe"
    },
    {
      "cell_type": "code",
      "source": [
        "random_tensor = torch.rand(size=(3, 4))\n",
        "random_tensor, random_tensor.dtype"
      ],
      "metadata": {
        "colab": {
          "base_uri": "https://localhost:8080/"
        },
        "id": "JHelXI1417LY",
        "outputId": "a0afbaf8-e924-491b-fdee-40bc1b32900e"
      },
      "id": "JHelXI1417LY",
      "execution_count": 16,
      "outputs": [
        {
          "output_type": "execute_result",
          "data": {
            "text/plain": [
              "(tensor([[0.7120, 0.5230, 0.4773, 0.4480],\n",
              "         [0.7995, 0.6309, 0.5070, 0.9845],\n",
              "         [0.8242, 0.7843, 0.1188, 0.1242]]),\n",
              " torch.float32)"
            ]
          },
          "metadata": {},
          "execution_count": 16
        }
      ]
    },
    {
      "cell_type": "code",
      "source": [
        "random_image_size_tensor = torch.rand(size=(224, 224, 3))\n",
        "random_image_size_tensor.ndim, random_image_size_tensor.shape"
      ],
      "metadata": {
        "colab": {
          "base_uri": "https://localhost:8080/"
        },
        "id": "FLX_6Kzp281B",
        "outputId": "af8b3b09-f638-4f18-b374-d1a3e5c81bd5"
      },
      "id": "FLX_6Kzp281B",
      "execution_count": 17,
      "outputs": [
        {
          "output_type": "execute_result",
          "data": {
            "text/plain": [
              "(3, torch.Size([224, 224, 3]))"
            ]
          },
          "metadata": {},
          "execution_count": 17
        }
      ]
    },
    {
      "cell_type": "markdown",
      "source": [
        "## Zeros and Ones"
      ],
      "metadata": {
        "id": "gktE7omG3nUa"
      },
      "id": "gktE7omG3nUa"
    },
    {
      "cell_type": "code",
      "source": [
        "zeros = torch.zeros(size=(3, 4))\n",
        "zeros, zeros.dtype"
      ],
      "metadata": {
        "colab": {
          "base_uri": "https://localhost:8080/"
        },
        "id": "C_S35YhY3eXj",
        "outputId": "e6743a3c-f971-47cf-9684-ea8cca6dcf5e"
      },
      "id": "C_S35YhY3eXj",
      "execution_count": 18,
      "outputs": [
        {
          "output_type": "execute_result",
          "data": {
            "text/plain": [
              "(tensor([[0., 0., 0., 0.],\n",
              "         [0., 0., 0., 0.],\n",
              "         [0., 0., 0., 0.]]),\n",
              " torch.float32)"
            ]
          },
          "metadata": {},
          "execution_count": 18
        }
      ]
    },
    {
      "cell_type": "code",
      "source": [
        "ones = torch.ones(size=(3, 4))\n",
        "ones, ones.dtype"
      ],
      "metadata": {
        "colab": {
          "base_uri": "https://localhost:8080/"
        },
        "id": "S8Iu6qKI3xtB",
        "outputId": "9f3c5e28-e4c0-4676-97ce-fa44d1c1e3b5"
      },
      "id": "S8Iu6qKI3xtB",
      "execution_count": 19,
      "outputs": [
        {
          "output_type": "execute_result",
          "data": {
            "text/plain": [
              "(tensor([[1., 1., 1., 1.],\n",
              "         [1., 1., 1., 1.],\n",
              "         [1., 1., 1., 1.]]),\n",
              " torch.float32)"
            ]
          },
          "metadata": {},
          "execution_count": 19
        }
      ]
    },
    {
      "cell_type": "markdown",
      "source": [
        "## `arange` and like"
      ],
      "metadata": {
        "id": "l0xliBnz4Eag"
      },
      "id": "l0xliBnz4Eag"
    },
    {
      "cell_type": "code",
      "source": [
        "v = torch.arange(0, 10)\n",
        "v"
      ],
      "metadata": {
        "colab": {
          "base_uri": "https://localhost:8080/"
        },
        "id": "cmebrlX636Qu",
        "outputId": "a0b294f1-20e1-49ee-d3ad-1f9ba849e7e9"
      },
      "id": "cmebrlX636Qu",
      "execution_count": 20,
      "outputs": [
        {
          "output_type": "execute_result",
          "data": {
            "text/plain": [
              "tensor([0, 1, 2, 3, 4, 5, 6, 7, 8, 9])"
            ]
          },
          "metadata": {},
          "execution_count": 20
        }
      ]
    },
    {
      "cell_type": "code",
      "source": [
        "torch.zeros_like(v)"
      ],
      "metadata": {
        "colab": {
          "base_uri": "https://localhost:8080/"
        },
        "id": "ewUo5ifP4OXd",
        "outputId": "0ed8acea-b52c-4bdb-c7e7-31b553be7497"
      },
      "id": "ewUo5ifP4OXd",
      "execution_count": 21,
      "outputs": [
        {
          "output_type": "execute_result",
          "data": {
            "text/plain": [
              "tensor([0, 0, 0, 0, 0, 0, 0, 0, 0, 0])"
            ]
          },
          "metadata": {},
          "execution_count": 21
        }
      ]
    },
    {
      "cell_type": "code",
      "source": [
        "torch.ones_like(v)"
      ],
      "metadata": {
        "colab": {
          "base_uri": "https://localhost:8080/"
        },
        "id": "ITIxOZmd4ah6",
        "outputId": "586025dc-05c5-4a6e-a3dd-052fac6a14ef"
      },
      "id": "ITIxOZmd4ah6",
      "execution_count": 22,
      "outputs": [
        {
          "output_type": "execute_result",
          "data": {
            "text/plain": [
              "tensor([1, 1, 1, 1, 1, 1, 1, 1, 1, 1])"
            ]
          },
          "metadata": {},
          "execution_count": 22
        }
      ]
    },
    {
      "cell_type": "code",
      "source": [],
      "metadata": {
        "id": "Pr7P50uP4d6C"
      },
      "id": "Pr7P50uP4d6C",
      "execution_count": 22,
      "outputs": []
    },
    {
      "cell_type": "markdown",
      "source": [
        "## Tensor Datatypes"
      ],
      "metadata": {
        "id": "i9iJe4RO4hgc"
      },
      "id": "i9iJe4RO4hgc"
    },
    {
      "cell_type": "code",
      "source": [
        "float_32_tensor = torch.tensor(\n",
        "    [3, 6, 9],\n",
        "    dtype=torch.float,\n",
        "    device=None,\n",
        "    requires_grad=False\n",
        ")\n",
        "float_32_tensor.shape, float_32_tensor.dtype, float_32_tensor.device"
      ],
      "metadata": {
        "colab": {
          "base_uri": "https://localhost:8080/"
        },
        "id": "qmFfrwU14juB",
        "outputId": "b9814300-dd61-41ec-f3c0-9ea59763b23f"
      },
      "id": "qmFfrwU14juB",
      "execution_count": 23,
      "outputs": [
        {
          "output_type": "execute_result",
          "data": {
            "text/plain": [
              "(torch.Size([3]), torch.float32, device(type='cpu'))"
            ]
          },
          "metadata": {},
          "execution_count": 23
        }
      ]
    },
    {
      "cell_type": "code",
      "source": [],
      "metadata": {
        "id": "v86OK_YW5V6A"
      },
      "id": "v86OK_YW5V6A",
      "execution_count": 23,
      "outputs": []
    },
    {
      "cell_type": "markdown",
      "source": [
        "## Manipulating Tensors"
      ],
      "metadata": {
        "id": "uGi7f4TyA-uC"
      },
      "id": "uGi7f4TyA-uC"
    },
    {
      "cell_type": "code",
      "source": [
        "tensor = torch.tensor([1, 2, 3])\n",
        "tensor + 10, tensor * 10"
      ],
      "metadata": {
        "id": "4hghqRlaBA12",
        "outputId": "3610c10d-f6a0-46e7-d00a-58ba5dbed290",
        "colab": {
          "base_uri": "https://localhost:8080/"
        }
      },
      "id": "4hghqRlaBA12",
      "execution_count": 24,
      "outputs": [
        {
          "output_type": "execute_result",
          "data": {
            "text/plain": [
              "(tensor([11, 12, 13]), tensor([10, 20, 30]))"
            ]
          },
          "metadata": {},
          "execution_count": 24
        }
      ]
    },
    {
      "cell_type": "code",
      "source": [
        "tensor = tensor - 10\n",
        "tensor"
      ],
      "metadata": {
        "id": "JSv7bmuABOXZ",
        "outputId": "cf198018-ba43-43d4-81ad-2938dce0c477",
        "colab": {
          "base_uri": "https://localhost:8080/"
        }
      },
      "id": "JSv7bmuABOXZ",
      "execution_count": 25,
      "outputs": [
        {
          "output_type": "execute_result",
          "data": {
            "text/plain": [
              "tensor([-9, -8, -7])"
            ]
          },
          "metadata": {},
          "execution_count": 25
        }
      ]
    },
    {
      "cell_type": "code",
      "source": [
        "tensor = tensor + 10\n",
        "tensor"
      ],
      "metadata": {
        "id": "zCS-W-dUBXZ9",
        "outputId": "0b954922-dfc2-4d7d-8d8f-7b7739500ae0",
        "colab": {
          "base_uri": "https://localhost:8080/"
        }
      },
      "id": "zCS-W-dUBXZ9",
      "execution_count": 26,
      "outputs": [
        {
          "output_type": "execute_result",
          "data": {
            "text/plain": [
              "tensor([1, 2, 3])"
            ]
          },
          "metadata": {},
          "execution_count": 26
        }
      ]
    },
    {
      "cell_type": "code",
      "source": [
        "tensor * tensor"
      ],
      "metadata": {
        "id": "mT8vjnWnBgj5",
        "outputId": "2557aaae-5194-4717-d76c-e75180fcebc1",
        "colab": {
          "base_uri": "https://localhost:8080/"
        }
      },
      "id": "mT8vjnWnBgj5",
      "execution_count": 27,
      "outputs": [
        {
          "output_type": "execute_result",
          "data": {
            "text/plain": [
              "tensor([1, 4, 9])"
            ]
          },
          "metadata": {},
          "execution_count": 27
        }
      ]
    },
    {
      "cell_type": "code",
      "source": [
        "tensor / tensor"
      ],
      "metadata": {
        "id": "HBTP8A0CBu6p",
        "outputId": "c458bfc9-e5f2-436e-d9bf-84612e3e2893",
        "colab": {
          "base_uri": "https://localhost:8080/"
        }
      },
      "id": "HBTP8A0CBu6p",
      "execution_count": 28,
      "outputs": [
        {
          "output_type": "execute_result",
          "data": {
            "text/plain": [
              "tensor([1., 1., 1.])"
            ]
          },
          "metadata": {},
          "execution_count": 28
        }
      ]
    },
    {
      "cell_type": "code",
      "source": [
        "tensor.shape"
      ],
      "metadata": {
        "id": "Ry3Km7plBwwZ",
        "outputId": "a39a942f-75e9-4ec2-c147-37f39a723f31",
        "colab": {
          "base_uri": "https://localhost:8080/"
        }
      },
      "id": "Ry3Km7plBwwZ",
      "execution_count": 29,
      "outputs": [
        {
          "output_type": "execute_result",
          "data": {
            "text/plain": [
              "torch.Size([3])"
            ]
          },
          "metadata": {},
          "execution_count": 29
        }
      ]
    },
    {
      "cell_type": "markdown",
      "source": [
        "### Matrix Multiplication"
      ],
      "metadata": {
        "id": "au6Br2TnDRp0"
      },
      "id": "au6Br2TnDRp0"
    },
    {
      "cell_type": "code",
      "source": [
        "tensor @ tensor"
      ],
      "metadata": {
        "id": "GQKXAL8fB8TH",
        "outputId": "d9ac66ca-d1ca-4c2b-b482-52777eae8378",
        "colab": {
          "base_uri": "https://localhost:8080/"
        }
      },
      "id": "GQKXAL8fB8TH",
      "execution_count": 30,
      "outputs": [
        {
          "output_type": "execute_result",
          "data": {
            "text/plain": [
              "tensor(14)"
            ]
          },
          "metadata": {},
          "execution_count": 30
        }
      ]
    },
    {
      "cell_type": "code",
      "source": [
        "tensor_A = torch.tensor([[1, 2],\n",
        "                         [3, 4],\n",
        "                         [5, 6]], dtype=torch.float32)\n",
        "\n",
        "tensor_B = torch.tensor([[7, 10],\n",
        "                         [8, 11],\n",
        "                         [9, 12]], dtype=torch.float32)"
      ],
      "metadata": {
        "id": "nnnXoYMjCJAq"
      },
      "id": "nnnXoYMjCJAq",
      "execution_count": 31,
      "outputs": []
    },
    {
      "cell_type": "code",
      "source": [
        "torch.transpose(tensor_B, 0, 1)"
      ],
      "metadata": {
        "id": "xtdlQwCVCh9h",
        "outputId": "bd32e21b-b99d-4946-a447-6965efb8db76",
        "colab": {
          "base_uri": "https://localhost:8080/"
        }
      },
      "id": "xtdlQwCVCh9h",
      "execution_count": 32,
      "outputs": [
        {
          "output_type": "execute_result",
          "data": {
            "text/plain": [
              "tensor([[ 7.,  8.,  9.],\n",
              "        [10., 11., 12.]])"
            ]
          },
          "metadata": {},
          "execution_count": 32
        }
      ]
    },
    {
      "cell_type": "code",
      "source": [
        "tensor_B.T"
      ],
      "metadata": {
        "id": "5VqKqzQPCopL",
        "outputId": "9c9cf6b6-5ba0-4e41-eb03-5751a14e545a",
        "colab": {
          "base_uri": "https://localhost:8080/"
        }
      },
      "id": "5VqKqzQPCopL",
      "execution_count": 33,
      "outputs": [
        {
          "output_type": "execute_result",
          "data": {
            "text/plain": [
              "tensor([[ 7.,  8.,  9.],\n",
              "        [10., 11., 12.]])"
            ]
          },
          "metadata": {},
          "execution_count": 33
        }
      ]
    },
    {
      "cell_type": "code",
      "source": [
        "tensor_A @ tensor_B.T"
      ],
      "metadata": {
        "id": "qeRbj67yCzuL",
        "outputId": "77b9e45a-84d9-49e4-97f2-f96206cb5e06",
        "colab": {
          "base_uri": "https://localhost:8080/"
        }
      },
      "id": "qeRbj67yCzuL",
      "execution_count": 34,
      "outputs": [
        {
          "output_type": "execute_result",
          "data": {
            "text/plain": [
              "tensor([[ 27.,  30.,  33.],\n",
              "        [ 61.,  68.,  75.],\n",
              "        [ 95., 106., 117.]])"
            ]
          },
          "metadata": {},
          "execution_count": 34
        }
      ]
    },
    {
      "cell_type": "code",
      "source": [
        "torch.matmul(tensor_A, tensor_B.T)"
      ],
      "metadata": {
        "id": "Nm3cMHtEC4Q2",
        "outputId": "95a8a926-0319-4d83-8f48-1b8648e61d85",
        "colab": {
          "base_uri": "https://localhost:8080/"
        }
      },
      "id": "Nm3cMHtEC4Q2",
      "execution_count": 35,
      "outputs": [
        {
          "output_type": "execute_result",
          "data": {
            "text/plain": [
              "tensor([[ 27.,  30.,  33.],\n",
              "        [ 61.,  68.,  75.],\n",
              "        [ 95., 106., 117.]])"
            ]
          },
          "metadata": {},
          "execution_count": 35
        }
      ]
    },
    {
      "cell_type": "code",
      "source": [
        "torch.mm(tensor_A, tensor_B.T)"
      ],
      "metadata": {
        "id": "gXnkyVPZDIPN",
        "outputId": "3579b08e-d769-4dbc-a6aa-be27b85e8522",
        "colab": {
          "base_uri": "https://localhost:8080/"
        }
      },
      "id": "gXnkyVPZDIPN",
      "execution_count": 36,
      "outputs": [
        {
          "output_type": "execute_result",
          "data": {
            "text/plain": [
              "tensor([[ 27.,  30.,  33.],\n",
              "        [ 61.,  68.,  75.],\n",
              "        [ 95., 106., 117.]])"
            ]
          },
          "metadata": {},
          "execution_count": 36
        }
      ]
    },
    {
      "cell_type": "markdown",
      "source": [
        "## Linear Layers"
      ],
      "metadata": {
        "id": "PK-ur9R0DtJJ"
      },
      "id": "PK-ur9R0DtJJ"
    },
    {
      "cell_type": "code",
      "source": [
        "torch.manual_seed(42)\n",
        "linear = torch.nn.Linear(in_features=2, out_features=6)\n",
        "x = tensor_A\n",
        "output = linear(x)\n",
        "output"
      ],
      "metadata": {
        "id": "8gWRReWnDKxR",
        "outputId": "56544441-cfd2-4522-e1c8-28f7b6444084",
        "colab": {
          "base_uri": "https://localhost:8080/"
        }
      },
      "id": "8gWRReWnDKxR",
      "execution_count": 37,
      "outputs": [
        {
          "output_type": "execute_result",
          "data": {
            "text/plain": [
              "tensor([[2.2368, 1.2292, 0.4714, 0.3864, 0.1309, 0.9838],\n",
              "        [4.4919, 2.1970, 0.4469, 0.5285, 0.3401, 2.4777],\n",
              "        [6.7469, 3.1648, 0.4224, 0.6705, 0.5493, 3.9716]],\n",
              "       grad_fn=<AddmmBackward0>)"
            ]
          },
          "metadata": {},
          "execution_count": 37
        }
      ]
    },
    {
      "cell_type": "code",
      "source": [
        "torch.manual_seed(42)\n",
        "linear = torch.nn.Linear(in_features=3, out_features=6)\n",
        "x = tensor_A.T\n",
        "output = linear(x)\n",
        "output"
      ],
      "metadata": {
        "id": "QY6re9eSEuDd",
        "outputId": "6a07c158-5f69-48db-8fa0-b86dc820b43f",
        "colab": {
          "base_uri": "https://localhost:8080/"
        }
      },
      "id": "QY6re9eSEuDd",
      "execution_count": 38,
      "outputs": [
        {
          "output_type": "execute_result",
          "data": {
            "text/plain": [
              "tensor([[0.9332, 0.8805, 3.0149, 1.5545, 1.8186, 2.0634],\n",
              "        [1.7186, 1.4009, 3.5818, 1.7408, 2.6017, 2.5123]],\n",
              "       grad_fn=<AddmmBackward0>)"
            ]
          },
          "metadata": {},
          "execution_count": 38
        }
      ]
    },
    {
      "cell_type": "markdown",
      "source": [
        "## Aggregation"
      ],
      "metadata": {
        "id": "KcA-xjyKFbI_"
      },
      "id": "KcA-xjyKFbI_"
    },
    {
      "cell_type": "code",
      "source": [
        "x = torch.arange(0, 100, 10)\n",
        "x"
      ],
      "metadata": {
        "id": "GrivFEAzFG7c",
        "outputId": "3f57e2cf-912d-4583-e3b9-aac763c3b0fa",
        "colab": {
          "base_uri": "https://localhost:8080/"
        }
      },
      "id": "GrivFEAzFG7c",
      "execution_count": 39,
      "outputs": [
        {
          "output_type": "execute_result",
          "data": {
            "text/plain": [
              "tensor([ 0, 10, 20, 30, 40, 50, 60, 70, 80, 90])"
            ]
          },
          "metadata": {},
          "execution_count": 39
        }
      ]
    },
    {
      "cell_type": "code",
      "source": [
        "x.min(), x.max(), x.sum()"
      ],
      "metadata": {
        "id": "IYIOnl3nFhha",
        "outputId": "08181ad7-f9d9-4b21-f510-9381202d61dc",
        "colab": {
          "base_uri": "https://localhost:8080/"
        }
      },
      "id": "IYIOnl3nFhha",
      "execution_count": 40,
      "outputs": [
        {
          "output_type": "execute_result",
          "data": {
            "text/plain": [
              "(tensor(0), tensor(90), tensor(450))"
            ]
          },
          "metadata": {},
          "execution_count": 40
        }
      ]
    },
    {
      "cell_type": "code",
      "source": [
        "x.type(torch.float).mean()"
      ],
      "metadata": {
        "id": "53A-Ah6sFpa-",
        "outputId": "76df285c-2453-4f38-e56b-aacdd8c2aad2",
        "colab": {
          "base_uri": "https://localhost:8080/"
        }
      },
      "id": "53A-Ah6sFpa-",
      "execution_count": 41,
      "outputs": [
        {
          "output_type": "execute_result",
          "data": {
            "text/plain": [
              "tensor(45.)"
            ]
          },
          "metadata": {},
          "execution_count": 41
        }
      ]
    },
    {
      "cell_type": "code",
      "source": [
        "x.argmin(), x.argmax()"
      ],
      "metadata": {
        "id": "vxx_PLghFvi_",
        "outputId": "2ea1aa32-0234-49be-9e8e-53945de68ccc",
        "colab": {
          "base_uri": "https://localhost:8080/"
        }
      },
      "id": "vxx_PLghFvi_",
      "execution_count": 42,
      "outputs": [
        {
          "output_type": "execute_result",
          "data": {
            "text/plain": [
              "(tensor(0), tensor(9))"
            ]
          },
          "metadata": {},
          "execution_count": 42
        }
      ]
    },
    {
      "cell_type": "markdown",
      "source": [
        "## Changing Datatypes"
      ],
      "metadata": {
        "id": "rH3KKtMIGR7C"
      },
      "id": "rH3KKtMIGR7C"
    },
    {
      "cell_type": "code",
      "source": [
        "y = torch.arange(0., 100., 10.)\n",
        "y.dtype"
      ],
      "metadata": {
        "id": "8LNSE0APGFHF",
        "outputId": "05cf986f-b512-4445-af8a-9662ba48f2d3",
        "colab": {
          "base_uri": "https://localhost:8080/"
        }
      },
      "id": "8LNSE0APGFHF",
      "execution_count": 43,
      "outputs": [
        {
          "output_type": "execute_result",
          "data": {
            "text/plain": [
              "torch.float32"
            ]
          },
          "metadata": {},
          "execution_count": 43
        }
      ]
    },
    {
      "cell_type": "code",
      "source": [
        "z = y.type(torch.half)\n",
        "z.dtype"
      ],
      "metadata": {
        "id": "AZ9gMKzlGkyg",
        "outputId": "fa60a697-2aba-4b5b-8be2-7c2c0af62d8e",
        "colab": {
          "base_uri": "https://localhost:8080/"
        }
      },
      "id": "AZ9gMKzlGkyg",
      "execution_count": 44,
      "outputs": [
        {
          "output_type": "execute_result",
          "data": {
            "text/plain": [
              "torch.float16"
            ]
          },
          "metadata": {},
          "execution_count": 44
        }
      ]
    },
    {
      "cell_type": "code",
      "source": [
        "w = z.type(torch.int8)\n",
        "w, w.dtype"
      ],
      "metadata": {
        "id": "qP-iJu9nG8aX",
        "outputId": "dd0d2eac-788a-4742-bd70-cf5e06930c37",
        "colab": {
          "base_uri": "https://localhost:8080/"
        }
      },
      "id": "qP-iJu9nG8aX",
      "execution_count": 45,
      "outputs": [
        {
          "output_type": "execute_result",
          "data": {
            "text/plain": [
              "(tensor([ 0, 10, 20, 30, 40, 50, 60, 70, 80, 90], dtype=torch.int8),\n",
              " torch.int8)"
            ]
          },
          "metadata": {},
          "execution_count": 45
        }
      ]
    },
    {
      "cell_type": "markdown",
      "source": [
        "## Reshaping, Stacking, and Squeezing"
      ],
      "metadata": {
        "id": "B5MkEi2PHT2Q"
      },
      "id": "B5MkEi2PHT2Q"
    },
    {
      "cell_type": "code",
      "source": [
        "x = torch.arange(1., 8.)\n",
        "x, x.shape"
      ],
      "metadata": {
        "id": "NbZmGRZoHDfA",
        "outputId": "9bf60e61-f2e3-4a8c-da0a-d4d8e560e5d1",
        "colab": {
          "base_uri": "https://localhost:8080/"
        }
      },
      "id": "NbZmGRZoHDfA",
      "execution_count": 46,
      "outputs": [
        {
          "output_type": "execute_result",
          "data": {
            "text/plain": [
              "(tensor([1., 2., 3., 4., 5., 6., 7.]), torch.Size([7]))"
            ]
          },
          "metadata": {},
          "execution_count": 46
        }
      ]
    },
    {
      "cell_type": "code",
      "source": [
        "y = x.reshape(1, 7)\n",
        "y, y.shape"
      ],
      "metadata": {
        "id": "CcC9p9sIeUY2",
        "outputId": "78d7a164-328b-44ba-8f1c-c855e38ce45f",
        "colab": {
          "base_uri": "https://localhost:8080/"
        }
      },
      "id": "CcC9p9sIeUY2",
      "execution_count": 50,
      "outputs": [
        {
          "output_type": "execute_result",
          "data": {
            "text/plain": [
              "(tensor([[1., 2., 3., 4., 5., 6., 7.]]), torch.Size([1, 7]))"
            ]
          },
          "metadata": {},
          "execution_count": 50
        }
      ]
    },
    {
      "cell_type": "code",
      "source": [
        "z = x.view(1, 7)\n",
        "z, z.shape"
      ],
      "metadata": {
        "id": "imhH-ySYfQYQ",
        "outputId": "91e7bb3b-9759-4132-9192-b932ce28b506",
        "colab": {
          "base_uri": "https://localhost:8080/"
        }
      },
      "id": "imhH-ySYfQYQ",
      "execution_count": 49,
      "outputs": [
        {
          "output_type": "execute_result",
          "data": {
            "text/plain": [
              "(tensor([[1., 2., 3., 4., 5., 6., 7.]]), torch.Size([1, 7]))"
            ]
          },
          "metadata": {},
          "execution_count": 49
        }
      ]
    },
    {
      "cell_type": "code",
      "source": [
        "z[:, 0] = 5\n",
        "z, x"
      ],
      "metadata": {
        "id": "y8gDmv4zfaQ_",
        "outputId": "43fa797f-e336-4d6d-8148-8568e340b5bf",
        "colab": {
          "base_uri": "https://localhost:8080/"
        }
      },
      "id": "y8gDmv4zfaQ_",
      "execution_count": 51,
      "outputs": [
        {
          "output_type": "execute_result",
          "data": {
            "text/plain": [
              "(tensor([[5., 2., 3., 4., 5., 6., 7.]]), tensor([5., 2., 3., 4., 5., 6., 7.]))"
            ]
          },
          "metadata": {},
          "execution_count": 51
        }
      ]
    },
    {
      "cell_type": "code",
      "source": [
        "x_stacked = torch.stack([x, x, x, x], dim=0)\n",
        "x_stacked.ndim, x_stacked.shape, x_stacked"
      ],
      "metadata": {
        "id": "sCnNlk18fxAh",
        "outputId": "e76d8ae8-436c-4be1-9e3e-51b35e51fe0d",
        "colab": {
          "base_uri": "https://localhost:8080/"
        }
      },
      "id": "sCnNlk18fxAh",
      "execution_count": 53,
      "outputs": [
        {
          "output_type": "execute_result",
          "data": {
            "text/plain": [
              "(2,\n",
              " torch.Size([4, 7]),\n",
              " tensor([[5., 2., 3., 4., 5., 6., 7.],\n",
              "         [5., 2., 3., 4., 5., 6., 7.],\n",
              "         [5., 2., 3., 4., 5., 6., 7.],\n",
              "         [5., 2., 3., 4., 5., 6., 7.]]))"
            ]
          },
          "metadata": {},
          "execution_count": 53
        }
      ]
    },
    {
      "cell_type": "code",
      "source": [
        "y.squeeze()"
      ],
      "metadata": {
        "id": "PyJJ4cJ-gG7j",
        "outputId": "52279cad-5492-438b-dee0-f1f10002d229",
        "colab": {
          "base_uri": "https://localhost:8080/"
        }
      },
      "id": "PyJJ4cJ-gG7j",
      "execution_count": 54,
      "outputs": [
        {
          "output_type": "execute_result",
          "data": {
            "text/plain": [
              "tensor([5., 2., 3., 4., 5., 6., 7.])"
            ]
          },
          "metadata": {},
          "execution_count": 54
        }
      ]
    },
    {
      "cell_type": "markdown",
      "source": [
        "## Indexing"
      ],
      "metadata": {
        "id": "mX9uRa--gsej"
      },
      "id": "mX9uRa--gsej"
    },
    {
      "cell_type": "code",
      "source": [
        "x = torch.arange(1, 10).reshape(1, 3, 3)\n",
        "x.ndim, x.shape, x"
      ],
      "metadata": {
        "id": "2ZfJseIzgbjT",
        "outputId": "ca44419e-30ff-47f1-e88b-fedb0afbdd77",
        "colab": {
          "base_uri": "https://localhost:8080/"
        }
      },
      "id": "2ZfJseIzgbjT",
      "execution_count": 55,
      "outputs": [
        {
          "output_type": "execute_result",
          "data": {
            "text/plain": [
              "(3,\n",
              " torch.Size([1, 3, 3]),\n",
              " tensor([[[1, 2, 3],\n",
              "          [4, 5, 6],\n",
              "          [7, 8, 9]]]))"
            ]
          },
          "metadata": {},
          "execution_count": 55
        }
      ]
    },
    {
      "cell_type": "code",
      "source": [
        "x[0], x[0][0], x[0][0][0]"
      ],
      "metadata": {
        "id": "W5tJo9mhgvAw",
        "outputId": "6afbcdff-1d0e-4e2a-bf06-439b27de687f",
        "colab": {
          "base_uri": "https://localhost:8080/"
        }
      },
      "id": "W5tJo9mhgvAw",
      "execution_count": 56,
      "outputs": [
        {
          "output_type": "execute_result",
          "data": {
            "text/plain": [
              "(tensor([[1, 2, 3],\n",
              "         [4, 5, 6],\n",
              "         [7, 8, 9]]),\n",
              " tensor([1, 2, 3]),\n",
              " tensor(1))"
            ]
          },
          "metadata": {},
          "execution_count": 56
        }
      ]
    },
    {
      "cell_type": "code",
      "source": [
        "x[0, :, :], x[0, 0, :]"
      ],
      "metadata": {
        "id": "DcwtUp0-hbH2",
        "outputId": "eefbcfa4-b0d9-419c-86a9-405fb4f239d6",
        "colab": {
          "base_uri": "https://localhost:8080/"
        }
      },
      "id": "DcwtUp0-hbH2",
      "execution_count": 58,
      "outputs": [
        {
          "output_type": "execute_result",
          "data": {
            "text/plain": [
              "(tensor([[1, 2, 3],\n",
              "         [4, 5, 6],\n",
              "         [7, 8, 9]]),\n",
              " tensor([1, 2, 3]))"
            ]
          },
          "metadata": {},
          "execution_count": 58
        }
      ]
    },
    {
      "cell_type": "code",
      "source": [
        "x[:, :, 1]"
      ],
      "metadata": {
        "id": "O3gb8Ycrhk_P",
        "outputId": "8f16ee41-071b-45d9-e918-1b609a0c7513",
        "colab": {
          "base_uri": "https://localhost:8080/"
        }
      },
      "id": "O3gb8Ycrhk_P",
      "execution_count": 59,
      "outputs": [
        {
          "output_type": "execute_result",
          "data": {
            "text/plain": [
              "tensor([[2, 5, 8]])"
            ]
          },
          "metadata": {},
          "execution_count": 59
        }
      ]
    },
    {
      "cell_type": "markdown",
      "source": [
        "## PyTorch and NumPy"
      ],
      "metadata": {
        "id": "fbNVHvihh7Td"
      },
      "id": "fbNVHvihh7Td"
    },
    {
      "cell_type": "code",
      "source": [
        "array = np.arange(1., 8.)\n",
        "tensor = torch.from_numpy(array)\n",
        "array, tensor"
      ],
      "metadata": {
        "id": "P_2gURqoh-WX",
        "outputId": "050880c0-3200-4bc3-f92f-a50c448ca39b",
        "colab": {
          "base_uri": "https://localhost:8080/"
        }
      },
      "id": "P_2gURqoh-WX",
      "execution_count": 61,
      "outputs": [
        {
          "output_type": "execute_result",
          "data": {
            "text/plain": [
              "(array([1., 2., 3., 4., 5., 6., 7.]),\n",
              " tensor([1., 2., 3., 4., 5., 6., 7.], dtype=torch.float64))"
            ]
          },
          "metadata": {},
          "execution_count": 61
        }
      ]
    },
    {
      "cell_type": "code",
      "source": [
        "tensor = torch.ones(8)\n",
        "array = tensor.numpy()\n",
        "array, tensor"
      ],
      "metadata": {
        "id": "ArlpkkDAilGO",
        "outputId": "6c4fb46d-a30d-4ceb-ad4c-1b9076adfbf4",
        "colab": {
          "base_uri": "https://localhost:8080/"
        }
      },
      "id": "ArlpkkDAilGO",
      "execution_count": 62,
      "outputs": [
        {
          "output_type": "execute_result",
          "data": {
            "text/plain": [
              "(array([1., 1., 1., 1., 1., 1., 1., 1.], dtype=float32),\n",
              " tensor([1., 1., 1., 1., 1., 1., 1., 1.]))"
            ]
          },
          "metadata": {},
          "execution_count": 62
        }
      ]
    },
    {
      "cell_type": "markdown",
      "source": [
        "## Reproducibility"
      ],
      "metadata": {
        "id": "8e6YHVAJjJHe"
      },
      "id": "8e6YHVAJjJHe"
    },
    {
      "cell_type": "code",
      "source": [
        "tensor_A = torch.rand(size=(3, 4))\n",
        "tensor_B = torch.rand(size=(3, 4))\n",
        "tensor_A, tensor_B"
      ],
      "metadata": {
        "id": "PU--xnxai_1r",
        "outputId": "a042f52a-2165-4883-9827-c5ce844f7115",
        "colab": {
          "base_uri": "https://localhost:8080/"
        }
      },
      "id": "PU--xnxai_1r",
      "execution_count": 63,
      "outputs": [
        {
          "output_type": "execute_result",
          "data": {
            "text/plain": [
              "(tensor([[0.1053, 0.2695, 0.3588, 0.1994],\n",
              "         [0.5472, 0.0062, 0.9516, 0.0753],\n",
              "         [0.8860, 0.5832, 0.3376, 0.8090]]),\n",
              " tensor([[0.5779, 0.9040, 0.5547, 0.3423],\n",
              "         [0.6343, 0.3644, 0.7104, 0.9464],\n",
              "         [0.7890, 0.2814, 0.7886, 0.5895]]))"
            ]
          },
          "metadata": {},
          "execution_count": 63
        }
      ]
    },
    {
      "cell_type": "code",
      "source": [
        "SEED = 42\n",
        "torch.manual_seed(seed=SEED)\n",
        "torch.rand(3, 4)"
      ],
      "metadata": {
        "id": "Mz-9QfDyjm1n",
        "outputId": "1381a80d-5d02-4beb-c88a-c4c825abd7c6",
        "colab": {
          "base_uri": "https://localhost:8080/"
        }
      },
      "id": "Mz-9QfDyjm1n",
      "execution_count": 68,
      "outputs": [
        {
          "output_type": "execute_result",
          "data": {
            "text/plain": [
              "tensor([[0.8823, 0.9150, 0.3829, 0.9593],\n",
              "        [0.3904, 0.6009, 0.2566, 0.7936],\n",
              "        [0.9408, 0.1332, 0.9346, 0.5936]])"
            ]
          },
          "metadata": {},
          "execution_count": 68
        }
      ]
    },
    {
      "cell_type": "code",
      "source": [
        "torch.manual_seed(seed=SEED)\n",
        "torch.rand(3, 4)"
      ],
      "metadata": {
        "id": "E4OdpZXmkOJX",
        "outputId": "2c5c7112-932f-417a-c41a-8fb108d1ab86",
        "colab": {
          "base_uri": "https://localhost:8080/"
        }
      },
      "id": "E4OdpZXmkOJX",
      "execution_count": 69,
      "outputs": [
        {
          "output_type": "execute_result",
          "data": {
            "text/plain": [
              "tensor([[0.8823, 0.9150, 0.3829, 0.9593],\n",
              "        [0.3904, 0.6009, 0.2566, 0.7936],\n",
              "        [0.9408, 0.1332, 0.9346, 0.5936]])"
            ]
          },
          "metadata": {},
          "execution_count": 69
        }
      ]
    },
    {
      "cell_type": "markdown",
      "source": [
        "## Running Tensors on GPUs"
      ],
      "metadata": {
        "id": "LRKpBiGHk0pZ"
      },
      "id": "LRKpBiGHk0pZ"
    },
    {
      "cell_type": "code",
      "source": [
        "tensor = torch.tensor([1, 2, 3])\n",
        "tensor, tensor.device"
      ],
      "metadata": {
        "id": "zNz-MxdXlPVt",
        "outputId": "c035bf4c-b8c0-445e-cf8d-c833ebe285eb",
        "colab": {
          "base_uri": "https://localhost:8080/"
        }
      },
      "id": "zNz-MxdXlPVt",
      "execution_count": 5,
      "outputs": [
        {
          "output_type": "execute_result",
          "data": {
            "text/plain": [
              "(tensor([1, 2, 3]), device(type='cpu'))"
            ]
          },
          "metadata": {},
          "execution_count": 5
        }
      ]
    },
    {
      "cell_type": "code",
      "source": [
        "tensor_on_gpu = tensor.to(device)\n",
        "tensor_on_gpu, tensor_on_gpu.device"
      ],
      "metadata": {
        "id": "J9oatM6um8Vl",
        "outputId": "f63748b8-4699-48f4-ee14-1c1087c0136b",
        "colab": {
          "base_uri": "https://localhost:8080/"
        }
      },
      "id": "J9oatM6um8Vl",
      "execution_count": 6,
      "outputs": [
        {
          "output_type": "execute_result",
          "data": {
            "text/plain": [
              "(tensor([1, 2, 3], device='cuda:0'), device(type='cuda', index=0))"
            ]
          },
          "metadata": {},
          "execution_count": 6
        }
      ]
    },
    {
      "cell_type": "code",
      "source": [
        "tensor[0] = 4\n",
        "tensor, tensor_on_gpu"
      ],
      "metadata": {
        "id": "eHDO3WRbnE2O",
        "outputId": "242a7e21-1214-49f2-bb0d-0b46ed216fc0",
        "colab": {
          "base_uri": "https://localhost:8080/"
        }
      },
      "id": "eHDO3WRbnE2O",
      "execution_count": 7,
      "outputs": [
        {
          "output_type": "execute_result",
          "data": {
            "text/plain": [
              "(tensor([4, 2, 3]), tensor([1, 2, 3], device='cuda:0'))"
            ]
          },
          "metadata": {},
          "execution_count": 7
        }
      ]
    },
    {
      "cell_type": "code",
      "source": [
        "tensor_on_gpu.cpu().numpy()"
      ],
      "metadata": {
        "id": "3ehM6acXnLvb",
        "outputId": "2d662101-4cea-41da-f489-db67a879aa5e",
        "colab": {
          "base_uri": "https://localhost:8080/"
        }
      },
      "id": "3ehM6acXnLvb",
      "execution_count": 9,
      "outputs": [
        {
          "output_type": "execute_result",
          "data": {
            "text/plain": [
              "array([1, 2, 3])"
            ]
          },
          "metadata": {},
          "execution_count": 9
        }
      ]
    },
    {
      "cell_type": "markdown",
      "source": [
        "## Exercises"
      ],
      "metadata": {
        "id": "0CPS3_nYnllg"
      },
      "id": "0CPS3_nYnllg"
    },
    {
      "cell_type": "markdown",
      "source": [
        "### 2."
      ],
      "metadata": {
        "id": "7R0mT302nqir"
      },
      "id": "7R0mT302nqir"
    },
    {
      "cell_type": "code",
      "source": [
        "x = torch.rand(size=(7, 7))\n",
        "x"
      ],
      "metadata": {
        "id": "wWq68hrKn4aW",
        "outputId": "a6d42486-0e33-4964-ce92-b76a6d7c8523",
        "colab": {
          "base_uri": "https://localhost:8080/"
        }
      },
      "id": "wWq68hrKn4aW",
      "execution_count": 12,
      "outputs": [
        {
          "output_type": "execute_result",
          "data": {
            "text/plain": [
              "tensor([[0.8321, 0.0147, 0.8859, 0.7680, 0.4398, 0.0188, 0.4739],\n",
              "        [0.3210, 0.0117, 0.0927, 0.1353, 0.0228, 0.8979, 0.4715],\n",
              "        [0.3150, 0.8933, 0.4742, 0.0720, 0.0671, 0.6216, 0.1101],\n",
              "        [0.7791, 0.0760, 0.1412, 0.2713, 0.4344, 0.9370, 0.3448],\n",
              "        [0.7587, 0.2321, 0.2107, 0.1539, 0.7543, 0.6479, 0.5668],\n",
              "        [0.0951, 0.1391, 0.0923, 0.5493, 0.1276, 0.5182, 0.4349],\n",
              "        [0.9786, 0.9613, 0.7633, 0.0034, 0.6311, 0.4600, 0.2018]])"
            ]
          },
          "metadata": {},
          "execution_count": 12
        }
      ]
    },
    {
      "cell_type": "markdown",
      "source": [
        "### 3."
      ],
      "metadata": {
        "id": "Kgm-cjUCnzHy"
      },
      "id": "Kgm-cjUCnzHy"
    },
    {
      "cell_type": "code",
      "source": [
        "y = torch.rand(size=(1, 7))\n",
        "y"
      ],
      "metadata": {
        "id": "XLKZWPgQnWci",
        "outputId": "1edf7f29-28c8-4b77-ead2-779943205d2a",
        "colab": {
          "base_uri": "https://localhost:8080/"
        }
      },
      "id": "XLKZWPgQnWci",
      "execution_count": 14,
      "outputs": [
        {
          "output_type": "execute_result",
          "data": {
            "text/plain": [
              "tensor([[0.4781, 0.6686, 0.3309, 0.6989, 0.4505, 0.6594, 0.1820]])"
            ]
          },
          "metadata": {},
          "execution_count": 14
        }
      ]
    },
    {
      "cell_type": "code",
      "source": [
        "y @ x"
      ],
      "metadata": {
        "id": "6rgdWo2WoxHr",
        "outputId": "77c74047-41f5-4088-94d4-46f174ebb3b3",
        "colab": {
          "base_uri": "https://localhost:8080/"
        }
      },
      "id": "6rgdWo2WoxHr",
      "execution_count": 15,
      "outputs": [
        {
          "output_type": "execute_result",
          "data": {
            "text/plain": [
              "tensor([[1.8437, 0.7347, 1.0358, 1.1033, 1.0901, 2.1871, 1.3980]])"
            ]
          },
          "metadata": {},
          "execution_count": 15
        }
      ]
    },
    {
      "cell_type": "code",
      "source": [
        "x @ y.T"
      ],
      "metadata": {
        "id": "-WOehqVOo4ZB",
        "outputId": "007ef677-635e-4bd6-e83a-2b8ba63d25d5",
        "colab": {
          "base_uri": "https://localhost:8080/"
        }
      },
      "id": "-WOehqVOo4ZB",
      "execution_count": 16,
      "outputs": [
        {
          "output_type": "execute_result",
          "data": {
            "text/plain": [
              "tensor([[1.5343],\n",
              "        [0.9746],\n",
              "        [1.4152],\n",
              "        [1.5360],\n",
              "        [1.5654],\n",
              "        [1.0312],\n",
              "        [1.9898]])"
            ]
          },
          "metadata": {},
          "execution_count": 16
        }
      ]
    },
    {
      "cell_type": "markdown",
      "source": [
        "### 4."
      ],
      "metadata": {
        "id": "AgH2rGpWo_hV"
      },
      "id": "AgH2rGpWo_hV"
    },
    {
      "cell_type": "code",
      "source": [
        "SEED = 0\n",
        "torch.manual_seed(seed=SEED)\n",
        "x = torch.rand(size=(7, 7))\n",
        "y = torch.rand(size=(1, 7))\n",
        "x, y"
      ],
      "metadata": {
        "id": "aureGQtQo6oR",
        "outputId": "86559d46-2b39-4972-a319-c17a7ec6abe2",
        "colab": {
          "base_uri": "https://localhost:8080/"
        }
      },
      "id": "aureGQtQo6oR",
      "execution_count": 19,
      "outputs": [
        {
          "output_type": "execute_result",
          "data": {
            "text/plain": [
              "(tensor([[0.4963, 0.7682, 0.0885, 0.1320, 0.3074, 0.6341, 0.4901],\n",
              "         [0.8964, 0.4556, 0.6323, 0.3489, 0.4017, 0.0223, 0.1689],\n",
              "         [0.2939, 0.5185, 0.6977, 0.8000, 0.1610, 0.2823, 0.6816],\n",
              "         [0.9152, 0.3971, 0.8742, 0.4194, 0.5529, 0.9527, 0.0362],\n",
              "         [0.1852, 0.3734, 0.3051, 0.9320, 0.1759, 0.2698, 0.1507],\n",
              "         [0.0317, 0.2081, 0.9298, 0.7231, 0.7423, 0.5263, 0.2437],\n",
              "         [0.5846, 0.0332, 0.1387, 0.2422, 0.8155, 0.7932, 0.2783]]),\n",
              " tensor([[0.4820, 0.8198, 0.9971, 0.6984, 0.5675, 0.8352, 0.2056]]))"
            ]
          },
          "metadata": {},
          "execution_count": 19
        }
      ]
    },
    {
      "cell_type": "code",
      "source": [
        "y @ x"
      ],
      "metadata": {
        "id": "34lRnGbSpsIc",
        "outputId": "53dcac0f-c1f4-41d2-fbc9-dfd008dd7c7e",
        "colab": {
          "base_uri": "https://localhost:8080/"
        }
      },
      "id": "34lRnGbSpsIc",
      "execution_count": 20,
      "outputs": [
        {
          "output_type": "execute_result",
          "data": {
            "text/plain": [
              "tensor([[2.1581, 1.9307, 2.8454, 2.6230, 1.9117, 2.0266, 1.4257]])"
            ]
          },
          "metadata": {},
          "execution_count": 20
        }
      ]
    },
    {
      "cell_type": "code",
      "source": [
        "x @ y.T"
      ],
      "metadata": {
        "id": "9N-ZnEdPp0wV",
        "outputId": "9f40bfe4-b598-4310-82f6-fd9e855c7135",
        "colab": {
          "base_uri": "https://localhost:8080/"
        }
      },
      "id": "9N-ZnEdPp0wV",
      "execution_count": 21,
      "outputs": [
        {
          "output_type": "execute_result",
          "data": {
            "text/plain": [
              "tensor([[1.8542],\n",
              "        [1.9611],\n",
              "        [2.2884],\n",
              "        [3.0481],\n",
              "        [1.7067],\n",
              "        [2.5290],\n",
              "        [1.7989]])"
            ]
          },
          "metadata": {},
          "execution_count": 21
        }
      ]
    },
    {
      "cell_type": "markdown",
      "source": [
        "### 5."
      ],
      "metadata": {
        "id": "i1U67EpDp5TO"
      },
      "id": "i1U67EpDp5TO"
    },
    {
      "cell_type": "code",
      "source": [
        "torch.cuda.manual_seed(seed=1234)"
      ],
      "metadata": {
        "id": "eDnxNAVcp21y"
      },
      "id": "eDnxNAVcp21y",
      "execution_count": 22,
      "outputs": []
    },
    {
      "cell_type": "markdown",
      "source": [
        "### 6."
      ],
      "metadata": {
        "id": "Dx4in-2Eqhv-"
      },
      "id": "Dx4in-2Eqhv-"
    },
    {
      "cell_type": "code",
      "source": [
        "torch.manual_seed(seed=1234)\n",
        "\n",
        "x = torch.rand(size=(2, 3))\n",
        "y = torch.rand(size=(2, 3))\n",
        "\n",
        "x_gpu = x.to(device)\n",
        "y_gpu = y.to(device)\n",
        "\n",
        "x_gpu, y_gpu"
      ],
      "metadata": {
        "id": "C4mMb3XbqaLo",
        "outputId": "378694fe-2ac0-42dc-d814-b073e8e9b866",
        "colab": {
          "base_uri": "https://localhost:8080/"
        }
      },
      "id": "C4mMb3XbqaLo",
      "execution_count": 28,
      "outputs": [
        {
          "output_type": "execute_result",
          "data": {
            "text/plain": [
              "(tensor([[0.0290, 0.4019, 0.2598],\n",
              "         [0.3666, 0.0583, 0.7006]], device='cuda:0'),\n",
              " tensor([[0.0518, 0.4681, 0.6738],\n",
              "         [0.3315, 0.7837, 0.5631]], device='cuda:0'))"
            ]
          },
          "metadata": {},
          "execution_count": 28
        }
      ]
    },
    {
      "cell_type": "markdown",
      "source": [
        "### 7."
      ],
      "metadata": {
        "id": "tQN27_MzrIYA"
      },
      "id": "tQN27_MzrIYA"
    },
    {
      "cell_type": "code",
      "source": [
        "x_gpu.shape, y_gpu.shape"
      ],
      "metadata": {
        "id": "0I7bIGK-q9Ix",
        "outputId": "6e72986d-fc9a-4711-812b-1ee9a887a621",
        "colab": {
          "base_uri": "https://localhost:8080/"
        }
      },
      "id": "0I7bIGK-q9Ix",
      "execution_count": 32,
      "outputs": [
        {
          "output_type": "execute_result",
          "data": {
            "text/plain": [
              "(torch.Size([2, 3]), torch.Size([2, 3]))"
            ]
          },
          "metadata": {},
          "execution_count": 32
        }
      ]
    },
    {
      "cell_type": "code",
      "source": [
        "tensor_A = x_gpu @ y_gpu.T\n",
        "tensor_A"
      ],
      "metadata": {
        "id": "y2oIxJDJrOGR",
        "outputId": "38f8e567-2f9b-4a22-a955-456b7ddc62e1",
        "colab": {
          "base_uri": "https://localhost:8080/"
        }
      },
      "id": "y2oIxJDJrOGR",
      "execution_count": 34,
      "outputs": [
        {
          "output_type": "execute_result",
          "data": {
            "text/plain": [
              "tensor([[0.3647, 0.4709],\n",
              "        [0.5184, 0.5617]], device='cuda:0')"
            ]
          },
          "metadata": {},
          "execution_count": 34
        }
      ]
    },
    {
      "cell_type": "code",
      "source": [
        "tensor_B = x_gpu.T @ y_gpu\n",
        "tensor_B"
      ],
      "metadata": {
        "id": "6XxNdmG7rSL3",
        "outputId": "ee748bf5-5b07-4a23-acb4-de19bee5e7fd",
        "colab": {
          "base_uri": "https://localhost:8080/"
        }
      },
      "id": "6XxNdmG7rSL3",
      "execution_count": 35,
      "outputs": [
        {
          "output_type": "execute_result",
          "data": {
            "text/plain": [
              "tensor([[0.1230, 0.3009, 0.2260],\n",
              "        [0.0401, 0.2338, 0.3036],\n",
              "        [0.2457, 0.6707, 0.5696]], device='cuda:0')"
            ]
          },
          "metadata": {},
          "execution_count": 35
        }
      ]
    },
    {
      "cell_type": "markdown",
      "source": [
        "### 8."
      ],
      "metadata": {
        "id": "vb67zkCWrj-B"
      },
      "id": "vb67zkCWrj-B"
    },
    {
      "cell_type": "code",
      "source": [
        "tensor_B.min(), tensor_B.max()"
      ],
      "metadata": {
        "id": "l35QEn1xrW-f",
        "outputId": "ade1ced3-de8a-4d0c-ca9d-07f8b13d3788",
        "colab": {
          "base_uri": "https://localhost:8080/"
        }
      },
      "id": "l35QEn1xrW-f",
      "execution_count": 37,
      "outputs": [
        {
          "output_type": "execute_result",
          "data": {
            "text/plain": [
              "(tensor(0.0401, device='cuda:0'), tensor(0.6707, device='cuda:0'))"
            ]
          },
          "metadata": {},
          "execution_count": 37
        }
      ]
    },
    {
      "cell_type": "markdown",
      "source": [
        "### 9."
      ],
      "metadata": {
        "id": "SDYvjYtWrwNG"
      },
      "id": "SDYvjYtWrwNG"
    },
    {
      "cell_type": "code",
      "source": [
        "tensor_B.argmin(), tensor_B.argmax()"
      ],
      "metadata": {
        "id": "m5zb0uZArqnq",
        "outputId": "4aa32cc3-8562-47c3-f1a3-a10b8636eecb",
        "colab": {
          "base_uri": "https://localhost:8080/"
        }
      },
      "id": "m5zb0uZArqnq",
      "execution_count": 38,
      "outputs": [
        {
          "output_type": "execute_result",
          "data": {
            "text/plain": [
              "(tensor(3, device='cuda:0'), tensor(7, device='cuda:0'))"
            ]
          },
          "metadata": {},
          "execution_count": 38
        }
      ]
    },
    {
      "cell_type": "markdown",
      "source": [
        "### 10."
      ],
      "metadata": {
        "id": "Sa3qOIcWwqfx"
      },
      "id": "Sa3qOIcWwqfx"
    },
    {
      "cell_type": "code",
      "source": [
        "torch.manual_seed(seed=7)\n",
        "z = torch.rand(size=(1, 1, 1, 10))\n",
        "z, z.squeeze()"
      ],
      "metadata": {
        "id": "HpQgdH8cr3_i",
        "outputId": "1e9adff4-dcd1-4a18-efc7-2fdbb48841ca",
        "colab": {
          "base_uri": "https://localhost:8080/"
        }
      },
      "id": "HpQgdH8cr3_i",
      "execution_count": 43,
      "outputs": [
        {
          "output_type": "execute_result",
          "data": {
            "text/plain": [
              "(tensor([[[[0.5349, 0.1988, 0.6592, 0.6569, 0.2328, 0.4251, 0.2071, 0.6297,\n",
              "            0.3653, 0.8513]]]]),\n",
              " tensor([0.5349, 0.1988, 0.6592, 0.6569, 0.2328, 0.4251, 0.2071, 0.6297, 0.3653,\n",
              "         0.8513]))"
            ]
          },
          "metadata": {},
          "execution_count": 43
        }
      ]
    },
    {
      "cell_type": "code",
      "source": [],
      "metadata": {
        "id": "a3lEMgdIw1dP"
      },
      "id": "a3lEMgdIw1dP",
      "execution_count": null,
      "outputs": []
    }
  ],
  "metadata": {
    "kernelspec": {
      "display_name": "Python 3",
      "name": "python3"
    },
    "language_info": {
      "codemirror_mode": {
        "name": "ipython",
        "version": 3
      },
      "file_extension": ".py",
      "mimetype": "text/x-python",
      "name": "python",
      "nbconvert_exporter": "python",
      "pygments_lexer": "ipython3",
      "version": "3.11.7"
    },
    "colab": {
      "provenance": [],
      "gpuType": "T4",
      "include_colab_link": true
    },
    "accelerator": "GPU"
  },
  "nbformat": 4,
  "nbformat_minor": 5
}